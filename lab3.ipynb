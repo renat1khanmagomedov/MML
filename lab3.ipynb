{
  "nbformat": 4,
  "nbformat_minor": 0,
  "metadata": {
    "colab": {
      "name": "S_MMO_LR3.ipynb",
      "provenance": [],
      "collapsed_sections": [],
      "toc_visible": true
    },
    "kernelspec": {
      "name": "python3",
      "display_name": "Python 3"
    },
    "language_info": {
      "name": "python"
    }
  },
  "cells": [
    {
      "cell_type": "markdown",
      "metadata": {
        "id": "dIEdfCzdg4AC"
      },
      "source": [
        "# Лабораторная работа № 3\n",
        "\n",
        "## Обработка признаков (часть 2)\n",
        "\n",
        "## Цель лабораторной работы:\n",
        " <b> изучение продвинутых способов предварительной обработки данных для дальнейшего формирования моделей.</b>\n",
        "\n",
        "## Требования к отчету:\n",
        "- титульный лист;\n",
        "- описание задания;\n",
        "- текст программы;\n",
        "- экранные формы с примерами выполнения программы.\n",
        "\n",
        "## Задание:\n",
        "\n",
        "- Выбрать один или несколько наборов данных (датасетов) для решения следующих задач.\n",
        "- Для выбранного датасета (датасетов) на основе материалов лекций решить следующие задачи:\n",
        "  * масштабирование признаков (не менее чем тремя способами);\n",
        "  * обработку выбросов для числовых признаков (по одному способу для удаления выбросов и для замены выбросов);\n",
        "  * обработку по крайней мере одного нестандартного признака (который не является числовым или категориальным);\n",
        "  * отбор признаков:\n",
        "    + один метод из группы методов фильтрации (filter methods);\n",
        "    + один метод из группы методов обертывания (wrapper methods);\n",
        "    + один метод из группы методов вложений (embedded methods).\n"
      ]
    },
    {
      "cell_type": "markdown",
      "metadata": {
        "id": "1HcbArbchjh5"
      },
      "source": [
        "## Датасет \n",
        "\n",
        "[ссылка](https://www.kaggle.com/crowdflower/twitter-user-gender-classification)\n",
        "\n",
        "\n",
        "\n",
        "- unitid: a unique id for user\n",
        "- _golden: whether the user was included in the gold standard for the - model; TRUE or FALSE\n",
        "- unitstate: state of the observation; one of finalized (for contributor-judged) or golden (for gold standard observations)\n",
        "- trustedjudgments: number of trusted judgments (int); always 3 for non-golden, and what may be a unique id for gold standard observations\n",
        "- lastjudgment_at: date and time of last contributor judgment; blank for gold standard observations\n",
        "- gender: one of male, female, or brand (for non-human profiles)\n",
        "- gender:confidence: a float representing confidence in the provided gender\n",
        "- profile_yn: \"no\" here seems to mean that the profile was meant to be part of the dataset but was not available when contributors went to judge it\n",
        "- profile_yn:confidence: confidence in the existence/non-existence of the profile\n",
        "- created: date and time when the profile was created\n",
        "- description: the user's profile description\n",
        "- fav_number: number of tweets the user has favorited\n",
        "- gender_gold: if the profile is golden, what is the gender?\n",
        "- link_color: the link color on the profile, as a hex value\n",
        "- name: the user's name\n",
        "- profileyngold: whether the profile y/n value is golden\n",
        "- profileimage: a link to the profile image\n",
        "- retweet_count: number of times the user has retweeted (or possibly, been retweeted)\n",
        "- sidebar_color: color of the profile sidebar, as a hex value\n",
        "- text: text of a random one of the user's tweets\n",
        "- tweet_coord: if the user has location turned on, the coordinates as a string with the format \"[latitude, longitude]\"\n",
        "- tweet_count: number of tweets that the user has posted\n",
        "- tweet_created: when the random tweet (in the text column) was created\n",
        "- tweet_id: the tweet id of the random tweet\n",
        "- tweet_location: location of the tweet; seems to not be particularly normalized\n",
        "- user_timezone: the timezone of the user"
      ]
    },
    {
      "cell_type": "code",
      "metadata": {
        "colab": {
          "base_uri": "https://localhost:8080/"
        },
        "id": "Tb2Kct3hg4H-",
        "outputId": "5232acae-643b-44f3-ce82-f8cd78094afc"
      },
      "source": [
        "# !unzip twitter.zip\n",
        "!pip install mlxtend\n",
        "!pip install catboost"
      ],
      "execution_count": null,
      "outputs": [
        {
          "output_type": "stream",
          "text": [
            "Requirement already satisfied: mlxtend in /usr/local/lib/python3.7/dist-packages (0.14.0)\n",
            "Requirement already satisfied: scikit-learn>=0.18 in /usr/local/lib/python3.7/dist-packages (from mlxtend) (0.22.2.post1)\n",
            "Requirement already satisfied: pandas>=0.17.1 in /usr/local/lib/python3.7/dist-packages (from mlxtend) (1.1.5)\n",
            "Requirement already satisfied: matplotlib>=1.5.1 in /usr/local/lib/python3.7/dist-packages (from mlxtend) (3.2.2)\n",
            "Requirement already satisfied: scipy>=0.17 in /usr/local/lib/python3.7/dist-packages (from mlxtend) (1.4.1)\n",
            "Requirement already satisfied: setuptools in /usr/local/lib/python3.7/dist-packages (from mlxtend) (56.1.0)\n",
            "Requirement already satisfied: numpy>=1.10.4 in /usr/local/lib/python3.7/dist-packages (from mlxtend) (1.19.5)\n",
            "Requirement already satisfied: joblib>=0.11 in /usr/local/lib/python3.7/dist-packages (from scikit-learn>=0.18->mlxtend) (1.0.1)\n",
            "Requirement already satisfied: python-dateutil>=2.7.3 in /usr/local/lib/python3.7/dist-packages (from pandas>=0.17.1->mlxtend) (2.8.1)\n",
            "Requirement already satisfied: pytz>=2017.2 in /usr/local/lib/python3.7/dist-packages (from pandas>=0.17.1->mlxtend) (2018.9)\n",
            "Requirement already satisfied: pyparsing!=2.0.4,!=2.1.2,!=2.1.6,>=2.0.1 in /usr/local/lib/python3.7/dist-packages (from matplotlib>=1.5.1->mlxtend) (2.4.7)\n",
            "Requirement already satisfied: kiwisolver>=1.0.1 in /usr/local/lib/python3.7/dist-packages (from matplotlib>=1.5.1->mlxtend) (1.3.1)\n",
            "Requirement already satisfied: cycler>=0.10 in /usr/local/lib/python3.7/dist-packages (from matplotlib>=1.5.1->mlxtend) (0.10.0)\n",
            "Requirement already satisfied: six>=1.5 in /usr/local/lib/python3.7/dist-packages (from python-dateutil>=2.7.3->pandas>=0.17.1->mlxtend) (1.15.0)\n",
            "Collecting catboost\n",
            "\u001b[?25l  Downloading https://files.pythonhosted.org/packages/47/80/8e9c57ec32dfed6ba2922bc5c96462cbf8596ce1a6f5de532ad1e43e53fe/catboost-0.25.1-cp37-none-manylinux1_x86_64.whl (67.3MB)\n",
            "\u001b[K     |████████████████████████████████| 67.3MB 56kB/s \n",
            "\u001b[?25hRequirement already satisfied: pandas>=0.24.0 in /usr/local/lib/python3.7/dist-packages (from catboost) (1.1.5)\n",
            "Requirement already satisfied: plotly in /usr/local/lib/python3.7/dist-packages (from catboost) (4.4.1)\n",
            "Requirement already satisfied: matplotlib in /usr/local/lib/python3.7/dist-packages (from catboost) (3.2.2)\n",
            "Requirement already satisfied: six in /usr/local/lib/python3.7/dist-packages (from catboost) (1.15.0)\n",
            "Requirement already satisfied: numpy>=1.16.0 in /usr/local/lib/python3.7/dist-packages (from catboost) (1.19.5)\n",
            "Requirement already satisfied: scipy in /usr/local/lib/python3.7/dist-packages (from catboost) (1.4.1)\n",
            "Requirement already satisfied: graphviz in /usr/local/lib/python3.7/dist-packages (from catboost) (0.10.1)\n",
            "Requirement already satisfied: python-dateutil>=2.7.3 in /usr/local/lib/python3.7/dist-packages (from pandas>=0.24.0->catboost) (2.8.1)\n",
            "Requirement already satisfied: pytz>=2017.2 in /usr/local/lib/python3.7/dist-packages (from pandas>=0.24.0->catboost) (2018.9)\n",
            "Requirement already satisfied: retrying>=1.3.3 in /usr/local/lib/python3.7/dist-packages (from plotly->catboost) (1.3.3)\n",
            "Requirement already satisfied: kiwisolver>=1.0.1 in /usr/local/lib/python3.7/dist-packages (from matplotlib->catboost) (1.3.1)\n",
            "Requirement already satisfied: cycler>=0.10 in /usr/local/lib/python3.7/dist-packages (from matplotlib->catboost) (0.10.0)\n",
            "Requirement already satisfied: pyparsing!=2.0.4,!=2.1.2,!=2.1.6,>=2.0.1 in /usr/local/lib/python3.7/dist-packages (from matplotlib->catboost) (2.4.7)\n",
            "Installing collected packages: catboost\n",
            "Successfully installed catboost-0.25.1\n"
          ],
          "name": "stdout"
        }
      ]
    },
    {
      "cell_type": "code",
      "metadata": {
        "id": "BHxCseRziZVr"
      },
      "source": [
        "import pandas as pd\n",
        "import numpy as np\n",
        "import matplotlib.pyplot as plt\n",
        "import seaborn as sns"
      ],
      "execution_count": null,
      "outputs": []
    },
    {
      "cell_type": "code",
      "metadata": {
        "colab": {
          "base_uri": "https://localhost:8080/",
          "height": 898
        },
        "id": "7hLPytJuihew",
        "outputId": "0bb13807-deef-4b2a-ff16-d6ef7b90591e"
      },
      "source": [
        "df = pd.read_csv('gender-classifier-DFE-791531.csv', encoding='latin1')\n",
        "df"
      ],
      "execution_count": null,
      "outputs": [
        {
          "output_type": "execute_result",
          "data": {
            "text/html": [
              "<div>\n",
              "<style scoped>\n",
              "    .dataframe tbody tr th:only-of-type {\n",
              "        vertical-align: middle;\n",
              "    }\n",
              "\n",
              "    .dataframe tbody tr th {\n",
              "        vertical-align: top;\n",
              "    }\n",
              "\n",
              "    .dataframe thead th {\n",
              "        text-align: right;\n",
              "    }\n",
              "</style>\n",
              "<table border=\"1\" class=\"dataframe\">\n",
              "  <thead>\n",
              "    <tr style=\"text-align: right;\">\n",
              "      <th></th>\n",
              "      <th>_unit_id</th>\n",
              "      <th>_golden</th>\n",
              "      <th>_unit_state</th>\n",
              "      <th>_trusted_judgments</th>\n",
              "      <th>_last_judgment_at</th>\n",
              "      <th>gender</th>\n",
              "      <th>gender:confidence</th>\n",
              "      <th>profile_yn</th>\n",
              "      <th>profile_yn:confidence</th>\n",
              "      <th>created</th>\n",
              "      <th>description</th>\n",
              "      <th>fav_number</th>\n",
              "      <th>gender_gold</th>\n",
              "      <th>link_color</th>\n",
              "      <th>name</th>\n",
              "      <th>profile_yn_gold</th>\n",
              "      <th>profileimage</th>\n",
              "      <th>retweet_count</th>\n",
              "      <th>sidebar_color</th>\n",
              "      <th>text</th>\n",
              "      <th>tweet_coord</th>\n",
              "      <th>tweet_count</th>\n",
              "      <th>tweet_created</th>\n",
              "      <th>tweet_id</th>\n",
              "      <th>tweet_location</th>\n",
              "      <th>user_timezone</th>\n",
              "    </tr>\n",
              "  </thead>\n",
              "  <tbody>\n",
              "    <tr>\n",
              "      <th>0</th>\n",
              "      <td>815719226</td>\n",
              "      <td>False</td>\n",
              "      <td>finalized</td>\n",
              "      <td>3</td>\n",
              "      <td>10/26/15 23:24</td>\n",
              "      <td>male</td>\n",
              "      <td>1.0000</td>\n",
              "      <td>yes</td>\n",
              "      <td>1.0</td>\n",
              "      <td>12/5/13 1:48</td>\n",
              "      <td>i sing my own rhythm.</td>\n",
              "      <td>0</td>\n",
              "      <td>NaN</td>\n",
              "      <td>08C2C2</td>\n",
              "      <td>sheezy0</td>\n",
              "      <td>NaN</td>\n",
              "      <td>https://pbs.twimg.com/profile_images/414342229...</td>\n",
              "      <td>0</td>\n",
              "      <td>FFFFFF</td>\n",
              "      <td>Robbie E Responds To Critics After Win Against...</td>\n",
              "      <td>NaN</td>\n",
              "      <td>110964</td>\n",
              "      <td>10/26/15 12:40</td>\n",
              "      <td>6.587300e+17</td>\n",
              "      <td>main; @Kan1shk3</td>\n",
              "      <td>Chennai</td>\n",
              "    </tr>\n",
              "    <tr>\n",
              "      <th>1</th>\n",
              "      <td>815719227</td>\n",
              "      <td>False</td>\n",
              "      <td>finalized</td>\n",
              "      <td>3</td>\n",
              "      <td>10/26/15 23:30</td>\n",
              "      <td>male</td>\n",
              "      <td>1.0000</td>\n",
              "      <td>yes</td>\n",
              "      <td>1.0</td>\n",
              "      <td>10/1/12 13:51</td>\n",
              "      <td>I'm the author of novels filled with family dr...</td>\n",
              "      <td>68</td>\n",
              "      <td>NaN</td>\n",
              "      <td>0084B4</td>\n",
              "      <td>DavdBurnett</td>\n",
              "      <td>NaN</td>\n",
              "      <td>https://pbs.twimg.com/profile_images/539604221...</td>\n",
              "      <td>0</td>\n",
              "      <td>C0DEED</td>\n",
              "      <td>ÛÏIt felt like they were my friends and I was...</td>\n",
              "      <td>NaN</td>\n",
              "      <td>7471</td>\n",
              "      <td>10/26/15 12:40</td>\n",
              "      <td>6.587300e+17</td>\n",
              "      <td>NaN</td>\n",
              "      <td>Eastern Time (US &amp; Canada)</td>\n",
              "    </tr>\n",
              "    <tr>\n",
              "      <th>2</th>\n",
              "      <td>815719228</td>\n",
              "      <td>False</td>\n",
              "      <td>finalized</td>\n",
              "      <td>3</td>\n",
              "      <td>10/26/15 23:33</td>\n",
              "      <td>male</td>\n",
              "      <td>0.6625</td>\n",
              "      <td>yes</td>\n",
              "      <td>1.0</td>\n",
              "      <td>11/28/14 11:30</td>\n",
              "      <td>louis whining and squealing and all</td>\n",
              "      <td>7696</td>\n",
              "      <td>NaN</td>\n",
              "      <td>ABB8C2</td>\n",
              "      <td>lwtprettylaugh</td>\n",
              "      <td>NaN</td>\n",
              "      <td>https://pbs.twimg.com/profile_images/657330418...</td>\n",
              "      <td>1</td>\n",
              "      <td>C0DEED</td>\n",
              "      <td>i absolutely adore when louis starts the songs...</td>\n",
              "      <td>NaN</td>\n",
              "      <td>5617</td>\n",
              "      <td>10/26/15 12:40</td>\n",
              "      <td>6.587300e+17</td>\n",
              "      <td>clcncl</td>\n",
              "      <td>Belgrade</td>\n",
              "    </tr>\n",
              "    <tr>\n",
              "      <th>3</th>\n",
              "      <td>815719229</td>\n",
              "      <td>False</td>\n",
              "      <td>finalized</td>\n",
              "      <td>3</td>\n",
              "      <td>10/26/15 23:10</td>\n",
              "      <td>male</td>\n",
              "      <td>1.0000</td>\n",
              "      <td>yes</td>\n",
              "      <td>1.0</td>\n",
              "      <td>6/11/09 22:39</td>\n",
              "      <td>Mobile guy.  49ers, Shazam, Google, Kleiner Pe...</td>\n",
              "      <td>202</td>\n",
              "      <td>NaN</td>\n",
              "      <td>0084B4</td>\n",
              "      <td>douggarland</td>\n",
              "      <td>NaN</td>\n",
              "      <td>https://pbs.twimg.com/profile_images/259703936...</td>\n",
              "      <td>0</td>\n",
              "      <td>C0DEED</td>\n",
              "      <td>Hi @JordanSpieth - Looking at the url - do you...</td>\n",
              "      <td>NaN</td>\n",
              "      <td>1693</td>\n",
              "      <td>10/26/15 12:40</td>\n",
              "      <td>6.587300e+17</td>\n",
              "      <td>Palo Alto, CA</td>\n",
              "      <td>Pacific Time (US &amp; Canada)</td>\n",
              "    </tr>\n",
              "    <tr>\n",
              "      <th>4</th>\n",
              "      <td>815719230</td>\n",
              "      <td>False</td>\n",
              "      <td>finalized</td>\n",
              "      <td>3</td>\n",
              "      <td>10/27/15 1:15</td>\n",
              "      <td>female</td>\n",
              "      <td>1.0000</td>\n",
              "      <td>yes</td>\n",
              "      <td>1.0</td>\n",
              "      <td>4/16/14 13:23</td>\n",
              "      <td>Ricky Wilson The Best FRONTMAN/Kaiser Chiefs T...</td>\n",
              "      <td>37318</td>\n",
              "      <td>NaN</td>\n",
              "      <td>3B94D9</td>\n",
              "      <td>WilfordGemma</td>\n",
              "      <td>NaN</td>\n",
              "      <td>https://pbs.twimg.com/profile_images/564094871...</td>\n",
              "      <td>0</td>\n",
              "      <td>0</td>\n",
              "      <td>Watching Neighbours on Sky+ catching up with t...</td>\n",
              "      <td>NaN</td>\n",
              "      <td>31462</td>\n",
              "      <td>10/26/15 12:40</td>\n",
              "      <td>6.587300e+17</td>\n",
              "      <td>NaN</td>\n",
              "      <td>NaN</td>\n",
              "    </tr>\n",
              "    <tr>\n",
              "      <th>...</th>\n",
              "      <td>...</td>\n",
              "      <td>...</td>\n",
              "      <td>...</td>\n",
              "      <td>...</td>\n",
              "      <td>...</td>\n",
              "      <td>...</td>\n",
              "      <td>...</td>\n",
              "      <td>...</td>\n",
              "      <td>...</td>\n",
              "      <td>...</td>\n",
              "      <td>...</td>\n",
              "      <td>...</td>\n",
              "      <td>...</td>\n",
              "      <td>...</td>\n",
              "      <td>...</td>\n",
              "      <td>...</td>\n",
              "      <td>...</td>\n",
              "      <td>...</td>\n",
              "      <td>...</td>\n",
              "      <td>...</td>\n",
              "      <td>...</td>\n",
              "      <td>...</td>\n",
              "      <td>...</td>\n",
              "      <td>...</td>\n",
              "      <td>...</td>\n",
              "      <td>...</td>\n",
              "    </tr>\n",
              "    <tr>\n",
              "      <th>20045</th>\n",
              "      <td>815757572</td>\n",
              "      <td>True</td>\n",
              "      <td>golden</td>\n",
              "      <td>259</td>\n",
              "      <td>NaN</td>\n",
              "      <td>female</td>\n",
              "      <td>1.0000</td>\n",
              "      <td>yes</td>\n",
              "      <td>1.0</td>\n",
              "      <td>8/5/15 21:16</td>\n",
              "      <td>(rp)</td>\n",
              "      <td>302</td>\n",
              "      <td>female</td>\n",
              "      <td>0084B4</td>\n",
              "      <td>capuletrosa</td>\n",
              "      <td>yes</td>\n",
              "      <td>https://pbs.twimg.com/profile_images/656793310...</td>\n",
              "      <td>0</td>\n",
              "      <td>C0DEED</td>\n",
              "      <td>@lookupondeath ...Fine, and I'll drink tea too...</td>\n",
              "      <td>NaN</td>\n",
              "      <td>783</td>\n",
              "      <td>10/26/15 13:20</td>\n",
              "      <td>6.587400e+17</td>\n",
              "      <td>Verona ªÁ</td>\n",
              "      <td>NaN</td>\n",
              "    </tr>\n",
              "    <tr>\n",
              "      <th>20046</th>\n",
              "      <td>815757681</td>\n",
              "      <td>True</td>\n",
              "      <td>golden</td>\n",
              "      <td>248</td>\n",
              "      <td>NaN</td>\n",
              "      <td>male</td>\n",
              "      <td>1.0000</td>\n",
              "      <td>yes</td>\n",
              "      <td>1.0</td>\n",
              "      <td>8/15/12 21:17</td>\n",
              "      <td>Whatever you like, it's not a problem at all. ...</td>\n",
              "      <td>2513</td>\n",
              "      <td>male</td>\n",
              "      <td>CFB929</td>\n",
              "      <td>BenNight41</td>\n",
              "      <td>yes</td>\n",
              "      <td>https://pbs.twimg.com/profile_images/639815429...</td>\n",
              "      <td>0</td>\n",
              "      <td>0</td>\n",
              "      <td>Greg Hardy you a good player and all but don't...</td>\n",
              "      <td>NaN</td>\n",
              "      <td>13523</td>\n",
              "      <td>10/26/15 12:40</td>\n",
              "      <td>6.587300e+17</td>\n",
              "      <td>Kansas City, MO</td>\n",
              "      <td>NaN</td>\n",
              "    </tr>\n",
              "    <tr>\n",
              "      <th>20047</th>\n",
              "      <td>815757830</td>\n",
              "      <td>True</td>\n",
              "      <td>golden</td>\n",
              "      <td>264</td>\n",
              "      <td>NaN</td>\n",
              "      <td>male</td>\n",
              "      <td>1.0000</td>\n",
              "      <td>yes</td>\n",
              "      <td>1.0</td>\n",
              "      <td>9/3/12 1:17</td>\n",
              "      <td>#TeamBarcelona ..You look lost so you should f...</td>\n",
              "      <td>50</td>\n",
              "      <td>male</td>\n",
              "      <td>0084B4</td>\n",
              "      <td>realuzzyfluxz</td>\n",
              "      <td>yes</td>\n",
              "      <td>https://pbs.twimg.com/profile_images/655473271...</td>\n",
              "      <td>0</td>\n",
              "      <td>C0DEED</td>\n",
              "      <td>You can miss people and still never want to se...</td>\n",
              "      <td>NaN</td>\n",
              "      <td>26419</td>\n",
              "      <td>10/26/15 13:20</td>\n",
              "      <td>6.587400e+17</td>\n",
              "      <td>Lagos Nigeria</td>\n",
              "      <td>NaN</td>\n",
              "    </tr>\n",
              "    <tr>\n",
              "      <th>20048</th>\n",
              "      <td>815757921</td>\n",
              "      <td>True</td>\n",
              "      <td>golden</td>\n",
              "      <td>250</td>\n",
              "      <td>NaN</td>\n",
              "      <td>female</td>\n",
              "      <td>0.8489</td>\n",
              "      <td>yes</td>\n",
              "      <td>1.0</td>\n",
              "      <td>11/6/12 23:46</td>\n",
              "      <td>Anti-statist; I homeschool my kids. Aspiring t...</td>\n",
              "      <td>70804</td>\n",
              "      <td>female</td>\n",
              "      <td>9266CC</td>\n",
              "      <td>argumatronic</td>\n",
              "      <td>yes</td>\n",
              "      <td>https://pbs.twimg.com/profile_images/657716093...</td>\n",
              "      <td>0</td>\n",
              "      <td>0</td>\n",
              "      <td>@bitemyapp i had noticed your tendency to pee ...</td>\n",
              "      <td>NaN</td>\n",
              "      <td>56073</td>\n",
              "      <td>10/26/15 12:40</td>\n",
              "      <td>6.587300e+17</td>\n",
              "      <td>Texas Hill Country</td>\n",
              "      <td>NaN</td>\n",
              "    </tr>\n",
              "    <tr>\n",
              "      <th>20049</th>\n",
              "      <td>815757985</td>\n",
              "      <td>True</td>\n",
              "      <td>golden</td>\n",
              "      <td>249</td>\n",
              "      <td>NaN</td>\n",
              "      <td>female</td>\n",
              "      <td>1.0000</td>\n",
              "      <td>yes</td>\n",
              "      <td>1.0</td>\n",
              "      <td>4/14/14 17:22</td>\n",
              "      <td>Teamwork makes the dream work.</td>\n",
              "      <td>3348</td>\n",
              "      <td>female</td>\n",
              "      <td>0084B4</td>\n",
              "      <td>MeganFitz20</td>\n",
              "      <td>yes</td>\n",
              "      <td>https://pbs.twimg.com/profile_images/655134724...</td>\n",
              "      <td>0</td>\n",
              "      <td>C0DEED</td>\n",
              "      <td>I think for my APUSH creative project I'm goin...</td>\n",
              "      <td>NaN</td>\n",
              "      <td>2922</td>\n",
              "      <td>10/26/15 13:19</td>\n",
              "      <td>6.587400e+17</td>\n",
              "      <td>NaN</td>\n",
              "      <td>NaN</td>\n",
              "    </tr>\n",
              "  </tbody>\n",
              "</table>\n",
              "<p>20050 rows × 26 columns</p>\n",
              "</div>"
            ],
            "text/plain": [
              "        _unit_id  _golden  ...      tweet_location               user_timezone\n",
              "0      815719226    False  ...     main; @Kan1shk3                     Chennai\n",
              "1      815719227    False  ...                 NaN  Eastern Time (US & Canada)\n",
              "2      815719228    False  ...              clcncl                    Belgrade\n",
              "3      815719229    False  ...       Palo Alto, CA  Pacific Time (US & Canada)\n",
              "4      815719230    False  ...                 NaN                         NaN\n",
              "...          ...      ...  ...                 ...                         ...\n",
              "20045  815757572     True  ...          Verona ªÁ                         NaN\n",
              "20046  815757681     True  ...     Kansas City, MO                         NaN\n",
              "20047  815757830     True  ...      Lagos Nigeria                          NaN\n",
              "20048  815757921     True  ...  Texas Hill Country                         NaN\n",
              "20049  815757985     True  ...                 NaN                         NaN\n",
              "\n",
              "[20050 rows x 26 columns]"
            ]
          },
          "metadata": {
            "tags": []
          },
          "execution_count": 81
        }
      ]
    },
    {
      "cell_type": "markdown",
      "metadata": {
        "id": "f8twyr5Hi47t"
      },
      "source": [
        "## Масштабирование признаков"
      ]
    },
    {
      "cell_type": "code",
      "metadata": {
        "id": "PGOBGj2_jnZI"
      },
      "source": [
        "from sklearn.preprocessing import StandardScaler, MinMaxScaler, RobustScaler"
      ],
      "execution_count": null,
      "outputs": []
    },
    {
      "cell_type": "code",
      "metadata": {
        "colab": {
          "base_uri": "https://localhost:8080/"
        },
        "id": "alvkLXFfjv3I",
        "outputId": "acbe62b1-9ed3-4e83-b244-60715c984bf7"
      },
      "source": [
        "df.dtypes"
      ],
      "execution_count": null,
      "outputs": [
        {
          "output_type": "execute_result",
          "data": {
            "text/plain": [
              "_unit_id                   int64\n",
              "_golden                     bool\n",
              "_unit_state               object\n",
              "_trusted_judgments         int64\n",
              "_last_judgment_at         object\n",
              "gender                    object\n",
              "gender:confidence        float64\n",
              "profile_yn                object\n",
              "profile_yn:confidence    float64\n",
              "created                   object\n",
              "description               object\n",
              "fav_number                 int64\n",
              "gender_gold               object\n",
              "link_color                object\n",
              "name                      object\n",
              "profile_yn_gold           object\n",
              "profileimage              object\n",
              "retweet_count              int64\n",
              "sidebar_color             object\n",
              "text                      object\n",
              "tweet_coord               object\n",
              "tweet_count                int64\n",
              "tweet_created             object\n",
              "tweet_id                 float64\n",
              "tweet_location            object\n",
              "user_timezone             object\n",
              "dtype: object"
            ]
          },
          "metadata": {
            "tags": []
          },
          "execution_count": 83
        }
      ]
    },
    {
      "cell_type": "markdown",
      "metadata": {
        "id": "tD1hvANJjb7-"
      },
      "source": [
        "### StandardScaler"
      ]
    },
    {
      "cell_type": "code",
      "metadata": {
        "colab": {
          "base_uri": "https://localhost:8080/"
        },
        "id": "dJQO59TzkeNg",
        "outputId": "bb703899-7ea9-4e19-c8c1-4db024a8f616"
      },
      "source": [
        "df.tweet_count.describe()"
      ],
      "execution_count": null,
      "outputs": [
        {
          "output_type": "execute_result",
          "data": {
            "text/plain": [
              "count    2.005000e+04\n",
              "mean     3.892469e+04\n",
              "std      1.168371e+05\n",
              "min      1.000000e+00\n",
              "25%      2.398000e+03\n",
              "50%      1.144150e+04\n",
              "75%      4.002750e+04\n",
              "max      2.680199e+06\n",
              "Name: tweet_count, dtype: float64"
            ]
          },
          "metadata": {
            "tags": []
          },
          "execution_count": 84
        }
      ]
    },
    {
      "cell_type": "code",
      "metadata": {
        "colab": {
          "base_uri": "https://localhost:8080/",
          "height": 410
        },
        "id": "YOBMVT6Yi4or",
        "outputId": "38162a55-f06d-43ac-efef-18fb0828626d"
      },
      "source": [
        "plt.figure(figsize=(20, 8))\n",
        "plt.subplot(121)\n",
        "plt.title('Before scaling with StandardScaler')\n",
        "ax = df.fav_number.hist()\n",
        "plt.yscale('log')\n",
        "\n",
        "sd_scaler = StandardScaler()\n",
        "scaled_fav_number = sd_scaler.fit_transform(np.array(df.fav_number).reshape(-1, 1))\n",
        "plt.subplot(122)\n",
        "plt.title('After scaling with StandardScaler')\n",
        "plt.hist(scaled_fav_number)\n",
        "plt.yscale('log')\n",
        "plt.show()"
      ],
      "execution_count": null,
      "outputs": [
        {
          "output_type": "display_data",
          "data": {
            "image/png": "[encoded data removed]",
            "text/plain": [
              "<Figure size 1440x576 with 2 Axes>"
            ]
          },
          "metadata": {
            "tags": [],
            "needs_background": "light"
          }
        }
      ]
    },
    {
      "cell_type": "markdown",
      "metadata": {
        "id": "kx4ynADAjfcf"
      },
      "source": [
        "### MinMaxScaler"
      ]
    },
    {
      "cell_type": "code",
      "metadata": {
        "colab": {
          "base_uri": "https://localhost:8080/",
          "height": 410
        },
        "id": "lgUjr8Sojfk9",
        "outputId": "55218ed4-4453-412d-dfb8-910f9e65f94b"
      },
      "source": [
        "plt.figure(figsize=(20, 8))\n",
        "plt.subplot(121)\n",
        "ax = df.retweet_count.hist()\n",
        "plt.title('Before scaling with MinMaxScaler')\n",
        "plt.yscale('log')\n",
        "\n",
        "sd_scaler = MinMaxScaler()\n",
        "scaled__minmax_tweet_count = sd_scaler.fit_transform(np.array(df.tweet_count).reshape(-1, 1))\n",
        "plt.subplot(122)\n",
        "plt.title('After scaling with MinMaxScaler')\n",
        "plt.hist(scaled__minmax_tweet_count)\n",
        "plt.yscale('log')\n",
        "plt.show()"
      ],
      "execution_count": null,
      "outputs": [
        {
          "output_type": "display_data",
          "data": {
            "image/png": "[encoded data removed]",
            "text/plain": [
              "<Figure size 1440x576 with 2 Axes>"
            ]
          },
          "metadata": {
            "tags": [],
            "needs_background": "light"
          }
        }
      ]
    },
    {
      "cell_type": "markdown",
      "metadata": {
        "id": "xmhw_QwojftX"
      },
      "source": [
        "### RobustScaler"
      ]
    },
    {
      "cell_type": "code",
      "metadata": {
        "colab": {
          "base_uri": "https://localhost:8080/",
          "height": 410
        },
        "id": "OxyuEU0Rjf1K",
        "outputId": "1bd12bcd-fc9a-4059-d2fa-b829d87aef2f"
      },
      "source": [
        "plt.figure(figsize=(20, 8))\n",
        "plt.subplot(121)\n",
        "plt.title('Before scaling with RobustScaler')\n",
        "ax = df.fav_number.hist()\n",
        "plt.yscale('log')\n",
        "\n",
        "sd_scaler = RobustScaler()\n",
        "scaled_robust_fav_number = sd_scaler.fit_transform(np.array(df.fav_number).reshape(-1, 1))\n",
        "plt.subplot(122)\n",
        "plt.title('After scaling with RobustScaler')\n",
        "plt.hist(scaled_robust_fav_number)\n",
        "plt.yscale('log')\n",
        "plt.show()"
      ],
      "execution_count": null,
      "outputs": [
        {
          "output_type": "display_data",
          "data": {
            "image/png": "[encoded data removed]",
            "text/plain": [
              "<Figure size 1440x576 with 2 Axes>"
            ]
          },
          "metadata": {
            "tags": [],
            "needs_background": "light"
          }
        }
      ]
    },
    {
      "cell_type": "markdown",
      "metadata": {
        "id": "b5q0m2b3nU86"
      },
      "source": [
        "## Обработка выбросов для численных признаков"
      ]
    },
    {
      "cell_type": "code",
      "metadata": {
        "colab": {
          "base_uri": "https://localhost:8080/",
          "height": 283
        },
        "id": "YdxnVox3i3kF",
        "outputId": "3d1ae1a0-db33-44b3-aa5b-ceac9d82b1f3"
      },
      "source": [
        "df.fav_number.plot(kind='box')"
      ],
      "execution_count": null,
      "outputs": [
        {
          "output_type": "execute_result",
          "data": {
            "text/plain": [
              "<matplotlib.axes._subplots.AxesSubplot at 0x7f736462f250>"
            ]
          },
          "metadata": {
            "tags": []
          },
          "execution_count": 88
        },
        {
          "output_type": "display_data",
          "data": {
            "image/png": "[encoded data removed]",
            "text/plain": [
              "<Figure size 432x288 with 1 Axes>"
            ]
          },
          "metadata": {
            "tags": [],
            "needs_background": "light"
          }
        }
      ]
    },
    {
      "cell_type": "markdown",
      "metadata": {
        "id": "eWYo-yQ_qexb"
      },
      "source": [
        "### обработка выброса с помощью интерквартильного размаха"
      ]
    },
    {
      "cell_type": "code",
      "metadata": {
        "colab": {
          "base_uri": "https://localhost:8080/",
          "height": 410
        },
        "id": "4FIIKoQCnrUv",
        "outputId": "20e3ed7c-7e73-4089-caa9-3fb585ab93d1"
      },
      "source": [
        "q75 = np.percentile(df.fav_number, 75)\n",
        "q25 = np.percentile(df.fav_number, 25)\n",
        "mean = df.fav_number.mean()\n",
        "std = df.fav_number.std()\n",
        "iqr = q75 - q25\n",
        "upper_outlier = mean+1.5*std\n",
        "fav_number_new = pd.Series([i-1.5*iqr for i in df.fav_number if i >= upper_outlier])\n",
        "plt.figure(figsize=(20, 8))\n",
        "plt.subplot(121)\n",
        "plt.title('Processed feature histogramm')\n",
        "ax3 = fav_number_new.hist()\n",
        "\n",
        "plt.subplot(122)\n",
        "plt.title('Processed feature boxplot')\n",
        "ax4 = fav_number_new.plot(kind='box')\n",
        "plt.show()"
      ],
      "execution_count": null,
      "outputs": [
        {
          "output_type": "display_data",
          "data": {
            "image/png": "[encoded data removed]",
            "text/plain": [
              "<Figure size 1440x576 with 2 Axes>"
            ]
          },
          "metadata": {
            "tags": [],
            "needs_background": "light"
          }
        }
      ]
    },
    {
      "cell_type": "markdown",
      "metadata": {
        "id": "ZWJEXyjaqoWd"
      },
      "source": [
        "### замена выброса на верхнюю границу"
      ]
    },
    {
      "cell_type": "code",
      "metadata": {
        "colab": {
          "base_uri": "https://localhost:8080/",
          "height": 424
        },
        "id": "sfKaaTymoOAK",
        "outputId": "a49e3511-f0b1-46eb-a599-0ab8665d3017"
      },
      "source": [
        "print('Found upper outlier is', upper_outlier)\n",
        "dropped_ = df.fav_number.clip(upper=upper_outlier)\n",
        "plt.figure(figsize=(20, 8))\n",
        "plt.subplot(121)\n",
        "plt.title('Histogramm after clipping')\n",
        "ax_d_h = dropped_.hist()\n",
        "\n",
        "plt.subplot(122)\n",
        "plt.title('Boxplot after clipping')\n",
        "ax_d = dropped_.plot(kind='box')\n",
        "\n",
        "plt.show()"
      ],
      "execution_count": null,
      "outputs": [
        {
          "output_type": "stream",
          "text": [
            "Found upper outlier is 23160.065523881327\n"
          ],
          "name": "stdout"
        },
        {
          "output_type": "display_data",
          "data": {
            "image/png": "[encoded data removed]",
            "text/plain": [
              "<Figure size 1440x576 with 2 Axes>"
            ]
          },
          "metadata": {
            "tags": [],
            "needs_background": "light"
          }
        }
      ]
    },
    {
      "cell_type": "markdown",
      "metadata": {
        "id": "BB5vdYyvrURU"
      },
      "source": [
        "## Обработка \"цветовой фичи\""
      ]
    },
    {
      "cell_type": "code",
      "metadata": {
        "colab": {
          "base_uri": "https://localhost:8080/"
        },
        "id": "8grEOdGWqu2o",
        "outputId": "fb54401e-48ff-4ee9-fa21-83d9549d3ae6"
      },
      "source": [
        "print('example of data', df.link_color[0])\n",
        "\n",
        "def get_color_vals_rgb(color_text):\n",
        "  if color_text != '0' and len(color_text) == 6:\n",
        "    return tuple(int(color_text[i:i+2], 16) for i in (0, 2, 4))\n",
        "  else:\n",
        "    return (0, 0, 0)\n",
        "\n",
        "r = []\n",
        "g = []\n",
        "b = []\n",
        "for col in list(df.link_color):\n",
        "  tmp_col = get_color_vals_rgb(col)\n",
        "  r.append(tmp_col[0])\n",
        "  g.append(tmp_col[1])\n",
        "  b.append(tmp_col[2])\n",
        "\n",
        "r,g,b\n",
        "\n",
        "df['r'] = r\n",
        "df['g'] = g\n",
        "df['b'] = b"
      ],
      "execution_count": null,
      "outputs": [
        {
          "output_type": "stream",
          "text": [
            "example of data 08C2C2\n"
          ],
          "name": "stdout"
        }
      ]
    },
    {
      "cell_type": "code",
      "metadata": {
        "colab": {
          "base_uri": "https://localhost:8080/",
          "height": 503
        },
        "id": "yxyb51K4rf0t",
        "outputId": "e237abbe-4ca0-4ff7-b844-024162de87b5"
      },
      "source": [
        "plt.figure(figsize=(20, 8))\n",
        "plt.subplot(131)\n",
        "ax = df.r.hist(color='r')\n",
        "\n",
        "plt.subplot(132)\n",
        "ax2 = df.g.hist(color='g')\n",
        "\n",
        "plt.subplot(133)\n",
        "ax3 = df.b.hist(color='b')"
      ],
      "execution_count": null,
      "outputs": [
        {
          "output_type": "display_data",
          "data": {
            "image/png": "[encoded data removed]",
            "text/plain": [
              "<Figure size 1440x576 with 3 Axes>"
            ]
          },
          "metadata": {
            "tags": [],
            "needs_background": "light"
          }
        }
      ]
    },
    {
      "cell_type": "markdown",
      "metadata": {
        "id": "6MrkiWlns3ry"
      },
      "source": [
        "## Отбор признаков"
      ]
    },
    {
      "cell_type": "markdown",
      "metadata": {
        "id": "L3qTkbEJtzpc"
      },
      "source": [
        "Подшотовим заранее целевой признак - пол"
      ]
    },
    {
      "cell_type": "code",
      "metadata": {
        "id": "9SLAffPyrzPO"
      },
      "source": [
        "df = df[(df.gender == 'male') | (df.gender == 'female')]\n",
        "\n",
        "df['gender'] = df.gender.apply(lambda x: 1 if x == 'female' else 0)"
      ],
      "execution_count": null,
      "outputs": []
    },
    {
      "cell_type": "code",
      "metadata": {
        "colab": {
          "base_uri": "https://localhost:8080/",
          "height": 285
        },
        "id": "k0BDjo-jvAsV",
        "outputId": "ea21a96f-073b-4ed9-ad77-0c567dd95d8e"
      },
      "source": [
        "df.gender.hist()"
      ],
      "execution_count": null,
      "outputs": [
        {
          "output_type": "execute_result",
          "data": {
            "text/plain": [
              "<matplotlib.axes._subplots.AxesSubplot at 0x7f73643d55d0>"
            ]
          },
          "metadata": {
            "tags": []
          },
          "execution_count": 114
        },
        {
          "output_type": "display_data",
          "data": {
            "image/png": "[encoded data removed]",
            "text/plain": [
              "<Figure size 432x288 with 1 Axes>"
            ]
          },
          "metadata": {
            "tags": [],
            "needs_background": "light"
          }
        }
      ]
    },
    {
      "cell_type": "markdown",
      "metadata": {
        "id": "OIo5DliNt3jv"
      },
      "source": [
        "отберем только обработанные и изначально численные признаки"
      ]
    },
    {
      "cell_type": "code",
      "metadata": {
        "colab": {
          "base_uri": "https://localhost:8080/",
          "height": 439
        },
        "id": "Nb1Xk7ZytFii",
        "outputId": "d4979bf0-87b8-4c82-b4d8-0000c8abc33c"
      },
      "source": [
        "df_numeric = df[[i for i in df.columns if df[i].dtype != 'O' and df[i].dtype !='bool']]\n",
        "df_numeric"
      ],
      "execution_count": null,
      "outputs": [
        {
          "output_type": "execute_result",
          "data": {
            "text/html": [
              "<div>\n",
              "<style scoped>\n",
              "    .dataframe tbody tr th:only-of-type {\n",
              "        vertical-align: middle;\n",
              "    }\n",
              "\n",
              "    .dataframe tbody tr th {\n",
              "        vertical-align: top;\n",
              "    }\n",
              "\n",
              "    .dataframe thead th {\n",
              "        text-align: right;\n",
              "    }\n",
              "</style>\n",
              "<table border=\"1\" class=\"dataframe\">\n",
              "  <thead>\n",
              "    <tr style=\"text-align: right;\">\n",
              "      <th></th>\n",
              "      <th>_unit_id</th>\n",
              "      <th>_trusted_judgments</th>\n",
              "      <th>gender</th>\n",
              "      <th>gender:confidence</th>\n",
              "      <th>profile_yn:confidence</th>\n",
              "      <th>fav_number</th>\n",
              "      <th>retweet_count</th>\n",
              "      <th>tweet_count</th>\n",
              "      <th>tweet_id</th>\n",
              "      <th>r</th>\n",
              "      <th>g</th>\n",
              "      <th>b</th>\n",
              "    </tr>\n",
              "  </thead>\n",
              "  <tbody>\n",
              "    <tr>\n",
              "      <th>0</th>\n",
              "      <td>815719226</td>\n",
              "      <td>3</td>\n",
              "      <td>0</td>\n",
              "      <td>1.0000</td>\n",
              "      <td>1.0</td>\n",
              "      <td>0</td>\n",
              "      <td>0</td>\n",
              "      <td>110964</td>\n",
              "      <td>6.587300e+17</td>\n",
              "      <td>8</td>\n",
              "      <td>194</td>\n",
              "      <td>194</td>\n",
              "    </tr>\n",
              "    <tr>\n",
              "      <th>1</th>\n",
              "      <td>815719227</td>\n",
              "      <td>3</td>\n",
              "      <td>0</td>\n",
              "      <td>1.0000</td>\n",
              "      <td>1.0</td>\n",
              "      <td>68</td>\n",
              "      <td>0</td>\n",
              "      <td>7471</td>\n",
              "      <td>6.587300e+17</td>\n",
              "      <td>0</td>\n",
              "      <td>132</td>\n",
              "      <td>180</td>\n",
              "    </tr>\n",
              "    <tr>\n",
              "      <th>2</th>\n",
              "      <td>815719228</td>\n",
              "      <td>3</td>\n",
              "      <td>0</td>\n",
              "      <td>0.6625</td>\n",
              "      <td>1.0</td>\n",
              "      <td>7696</td>\n",
              "      <td>1</td>\n",
              "      <td>5617</td>\n",
              "      <td>6.587300e+17</td>\n",
              "      <td>171</td>\n",
              "      <td>184</td>\n",
              "      <td>194</td>\n",
              "    </tr>\n",
              "    <tr>\n",
              "      <th>3</th>\n",
              "      <td>815719229</td>\n",
              "      <td>3</td>\n",
              "      <td>0</td>\n",
              "      <td>1.0000</td>\n",
              "      <td>1.0</td>\n",
              "      <td>202</td>\n",
              "      <td>0</td>\n",
              "      <td>1693</td>\n",
              "      <td>6.587300e+17</td>\n",
              "      <td>0</td>\n",
              "      <td>132</td>\n",
              "      <td>180</td>\n",
              "    </tr>\n",
              "    <tr>\n",
              "      <th>4</th>\n",
              "      <td>815719230</td>\n",
              "      <td>3</td>\n",
              "      <td>1</td>\n",
              "      <td>1.0000</td>\n",
              "      <td>1.0</td>\n",
              "      <td>37318</td>\n",
              "      <td>0</td>\n",
              "      <td>31462</td>\n",
              "      <td>6.587300e+17</td>\n",
              "      <td>59</td>\n",
              "      <td>148</td>\n",
              "      <td>217</td>\n",
              "    </tr>\n",
              "    <tr>\n",
              "      <th>...</th>\n",
              "      <td>...</td>\n",
              "      <td>...</td>\n",
              "      <td>...</td>\n",
              "      <td>...</td>\n",
              "      <td>...</td>\n",
              "      <td>...</td>\n",
              "      <td>...</td>\n",
              "      <td>...</td>\n",
              "      <td>...</td>\n",
              "      <td>...</td>\n",
              "      <td>...</td>\n",
              "      <td>...</td>\n",
              "    </tr>\n",
              "    <tr>\n",
              "      <th>20045</th>\n",
              "      <td>815757572</td>\n",
              "      <td>259</td>\n",
              "      <td>1</td>\n",
              "      <td>1.0000</td>\n",
              "      <td>1.0</td>\n",
              "      <td>302</td>\n",
              "      <td>0</td>\n",
              "      <td>783</td>\n",
              "      <td>6.587400e+17</td>\n",
              "      <td>0</td>\n",
              "      <td>132</td>\n",
              "      <td>180</td>\n",
              "    </tr>\n",
              "    <tr>\n",
              "      <th>20046</th>\n",
              "      <td>815757681</td>\n",
              "      <td>248</td>\n",
              "      <td>0</td>\n",
              "      <td>1.0000</td>\n",
              "      <td>1.0</td>\n",
              "      <td>2513</td>\n",
              "      <td>0</td>\n",
              "      <td>13523</td>\n",
              "      <td>6.587300e+17</td>\n",
              "      <td>207</td>\n",
              "      <td>185</td>\n",
              "      <td>41</td>\n",
              "    </tr>\n",
              "    <tr>\n",
              "      <th>20047</th>\n",
              "      <td>815757830</td>\n",
              "      <td>264</td>\n",
              "      <td>0</td>\n",
              "      <td>1.0000</td>\n",
              "      <td>1.0</td>\n",
              "      <td>50</td>\n",
              "      <td>0</td>\n",
              "      <td>26419</td>\n",
              "      <td>6.587400e+17</td>\n",
              "      <td>0</td>\n",
              "      <td>132</td>\n",
              "      <td>180</td>\n",
              "    </tr>\n",
              "    <tr>\n",
              "      <th>20048</th>\n",
              "      <td>815757921</td>\n",
              "      <td>250</td>\n",
              "      <td>1</td>\n",
              "      <td>0.8489</td>\n",
              "      <td>1.0</td>\n",
              "      <td>70804</td>\n",
              "      <td>0</td>\n",
              "      <td>56073</td>\n",
              "      <td>6.587300e+17</td>\n",
              "      <td>146</td>\n",
              "      <td>102</td>\n",
              "      <td>204</td>\n",
              "    </tr>\n",
              "    <tr>\n",
              "      <th>20049</th>\n",
              "      <td>815757985</td>\n",
              "      <td>249</td>\n",
              "      <td>1</td>\n",
              "      <td>1.0000</td>\n",
              "      <td>1.0</td>\n",
              "      <td>3348</td>\n",
              "      <td>0</td>\n",
              "      <td>2922</td>\n",
              "      <td>6.587400e+17</td>\n",
              "      <td>0</td>\n",
              "      <td>132</td>\n",
              "      <td>180</td>\n",
              "    </tr>\n",
              "  </tbody>\n",
              "</table>\n",
              "<p>12894 rows × 12 columns</p>\n",
              "</div>"
            ],
            "text/plain": [
              "        _unit_id  _trusted_judgments  gender  ...    r    g    b\n",
              "0      815719226                   3       0  ...    8  194  194\n",
              "1      815719227                   3       0  ...    0  132  180\n",
              "2      815719228                   3       0  ...  171  184  194\n",
              "3      815719229                   3       0  ...    0  132  180\n",
              "4      815719230                   3       1  ...   59  148  217\n",
              "...          ...                 ...     ...  ...  ...  ...  ...\n",
              "20045  815757572                 259       1  ...    0  132  180\n",
              "20046  815757681                 248       0  ...  207  185   41\n",
              "20047  815757830                 264       0  ...    0  132  180\n",
              "20048  815757921                 250       1  ...  146  102  204\n",
              "20049  815757985                 249       1  ...    0  132  180\n",
              "\n",
              "[12894 rows x 12 columns]"
            ]
          },
          "metadata": {
            "tags": []
          },
          "execution_count": 106
        }
      ]
    },
    {
      "cell_type": "code",
      "metadata": {
        "id": "rr5PgAHatMcs"
      },
      "source": [
        "X = df_numeric[[i for i in df_numeric.columns if i !='gender']]\n",
        "y = df_numeric.gender"
      ],
      "execution_count": null,
      "outputs": []
    },
    {
      "cell_type": "markdown",
      "metadata": {
        "id": "M5rylJwMuKLn"
      },
      "source": [
        "### Метод фильтрации связанный со статистическими характеристиками"
      ]
    },
    {
      "cell_type": "code",
      "metadata": {
        "colab": {
          "base_uri": "https://localhost:8080/"
        },
        "id": "NJUeIzaxuJjJ",
        "outputId": "5be69dc3-ad8b-475e-a9e8-d582c9cf7317"
      },
      "source": [
        "from sklearn.feature_selection import SelectKBest\n",
        "\n",
        "res = SelectKBest(k=5).fit(X, y)\n",
        "\n",
        "selected_features = [name for name, mask in zip(X.columns, res.get_support()) if mask == True]\n",
        "print(selected_features)"
      ],
      "execution_count": null,
      "outputs": [
        {
          "output_type": "stream",
          "text": [
            "['_unit_id', 'gender:confidence', 'fav_number', 'tweet_id', 'r']\n"
          ],
          "name": "stdout"
        }
      ]
    },
    {
      "cell_type": "markdown",
      "metadata": {
        "id": "HtUMHqlBugxA"
      },
      "source": [
        "### Метод обертывания"
      ]
    },
    {
      "cell_type": "code",
      "metadata": {
        "colab": {
          "base_uri": "https://localhost:8080/"
        },
        "id": "-4HbCYdcuQJq",
        "outputId": "39436718-89c9-4fdf-c8cc-eb9d57f2c8b7"
      },
      "source": [
        "from mlxtend.feature_selection import ExhaustiveFeatureSelector as EFS\n",
        "from sklearn.tree import DecisionTreeClassifier\n",
        "from sklearn.neighbors import KNeighborsClassifier\n",
        "\n",
        "knn = KNeighborsClassifier(n_neighbors=5)\n",
        "\n",
        "efs1 = EFS(knn, \n",
        "           min_features=2,\n",
        "           max_features=3,\n",
        "           scoring='roc_auc',\n",
        "           print_progress=True,\n",
        "           cv=5, n_jobs=-1)\n",
        "\n",
        "efs1 = efs1.fit(X, y)\n",
        "\n",
        "print('Best accuracy score: %.2f' % efs1.best_score_)\n",
        "print('Best subset (indices):', efs1.best_idx_)\n",
        "print('Best subset (corresponding names):', efs1.best_feature_names_)"
      ],
      "execution_count": null,
      "outputs": [
        {
          "output_type": "stream",
          "text": [
            "Features: 220/220"
          ],
          "name": "stderr"
        },
        {
          "output_type": "stream",
          "text": [
            "Best accuracy score: 0.59\n",
            "Best subset (indices): (8, 9, 10)\n",
            "Best subset (corresponding names): ('r', 'g', 'b')\n"
          ],
          "name": "stdout"
        }
      ]
    },
    {
      "cell_type": "markdown",
      "metadata": {
        "id": "vOCaTRrIuwi8"
      },
      "source": [
        "### Метод вложений"
      ]
    },
    {
      "cell_type": "code",
      "metadata": {
        "colab": {
          "base_uri": "https://localhost:8080/",
          "height": 478
        },
        "id": "DbE2ewbAuuLU",
        "outputId": "b6b84934-e892-430a-cf34-02a783a05062"
      },
      "source": [
        "from catboost import CatBoostClassifier\n",
        "from sklearn.model_selection import train_test_split\n",
        "\n",
        "X_train, X_val, y_train, y_val = train_test_split(X, y, test_size=0.2, random_state=123, stratify=y)\n",
        "\n",
        "cat_clf = CatBoostClassifier(random_state=123, iterations=3000, early_stopping_rounds=10,\n",
        "                             eval_metric='F1', verbose=False)\n",
        "cat_clf.fit(X_train, y_train, eval_set=(X_val, y_val))\n",
        "\n",
        "res = np.array(sorted([(n,float(f)) for n,f in zip(X_train.columns, cat_clf.feature_importances_)], key=lambda x: x[1], reverse=False))\n",
        "\n",
        "plt.figure(figsize=(18, 8))\n",
        "plt.bar(res[:,0], res[:,1], color='r')\n",
        "plt.title('CatBoost feature importances result')\n",
        "plt.xticks(res[:,0], rotation=45)\n",
        "plt.show()"
      ],
      "execution_count": null,
      "outputs": [
        {
          "output_type": "display_data",
          "data": {
            "image/png": "[encoded data removed]",
            "text/plain": [
              "<Figure size 1296x576 with 1 Axes>"
            ]
          },
          "metadata": {
            "tags": [],
            "needs_background": "light"
          }
        }
      ]
    }
  ]
}