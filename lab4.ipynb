{
  "nbformat": 4,
  "nbformat_minor": 0,
  "metadata": {
    "colab": {
      "name": "S_MMO_LR4.ipynb",
      "provenance": [],
      "collapsed_sections": [],
      "toc_visible": true
    },
    "kernelspec": {
      "name": "python3",
      "display_name": "Python 3"
    },
    "language_info": {
      "name": "python"
    }
  },
  "cells": [
    {
      "cell_type": "markdown",
      "metadata": {
        "id": "P3VtWKg2xauD"
      },
      "source": [
        "# Лабораторная работа № 4\n",
        "\n",
        "## Создание рекомендательной модели\n",
        "\n",
        "### Цель лабораторной работы: \n",
        "<b>изучение разработки рекомендательных моделей.</b>\n",
        "\n",
        "### Требования к отчету:\n",
        "- титульный лист;\n",
        "- описание задания;\n",
        "- текст программы;\n",
        "- экранные формы с примерами выполнения программы.\n",
        "\n",
        "### Задание:\n",
        "- Выбрать произвольный набор данных (датасет), предназначенный для построения рекомендательных моделей.\n",
        "- Опираясь на материалы лекции, сформировать рекомендации для одного пользователя (объекта) двумя произвольными способами.\n",
        "- Сравнить полученные рекомендации (если это возможно, то с применением метрик)."
      ]
    },
    {
      "cell_type": "markdown",
      "metadata": {
        "id": "R6JM9Y9D0ekQ"
      },
      "source": [
        "## Датасет\n",
        "\n",
        "[ссылка](https://grouplens.org/datasets/movielens/100k/)"
      ]
    },
    {
      "cell_type": "code",
      "metadata": {
        "id": "ikkZAOxG0k7y"
      },
      "source": [
        "import pandas as pd\n",
        "import numpy as np\n",
        "import matplotlib.pyplot as plt\n",
        "import seaborn as sns\n",
        "import re"
      ],
      "execution_count": null,
      "outputs": []
    },
    {
      "cell_type": "code",
      "metadata": {
        "colab": {
          "base_uri": "https://localhost:8080/"
        },
        "id": "z-owRiGc0tYU",
        "outputId": "c4aacdc6-45be-48f9-f594-41a26f35e495"
      },
      "source": [
        "!unzip ml-100k.zip"
      ],
      "execution_count": null,
      "outputs": [
        {
          "output_type": "stream",
          "text": [
            "Archive:  ml-100k.zip\n",
            "   creating: ml-100k/\n",
            "  inflating: ml-100k/allbut.pl       \n",
            "  inflating: ml-100k/mku.sh          \n",
            "  inflating: ml-100k/README          \n",
            "  inflating: ml-100k/u.data          \n",
            "  inflating: ml-100k/u.genre         \n",
            "  inflating: ml-100k/u.info          \n",
            "  inflating: ml-100k/u.item          \n",
            "  inflating: ml-100k/u.occupation    \n",
            "  inflating: ml-100k/u.user          \n",
            "  inflating: ml-100k/u1.base         \n",
            "  inflating: ml-100k/u1.test         \n",
            "  inflating: ml-100k/u2.base         \n",
            "  inflating: ml-100k/u2.test         \n",
            "  inflating: ml-100k/u3.base         \n",
            "  inflating: ml-100k/u3.test         \n",
            "  inflating: ml-100k/u4.base         \n",
            "  inflating: ml-100k/u4.test         \n",
            "  inflating: ml-100k/u5.base         \n",
            "  inflating: ml-100k/u5.test         \n",
            "  inflating: ml-100k/ua.base         \n",
            "  inflating: ml-100k/ua.test         \n",
            "  inflating: ml-100k/ub.base         \n",
            "  inflating: ml-100k/ub.test         \n"
          ],
          "name": "stdout"
        }
      ]
    },
    {
      "cell_type": "markdown",
      "metadata": {
        "id": "p6_FeChB6Gq6"
      },
      "source": [
        "## Считываем данные"
      ]
    },
    {
      "cell_type": "markdown",
      "metadata": {
        "id": "smHD-Y7A6K68"
      },
      "source": [
        "### О пользователях"
      ]
    },
    {
      "cell_type": "code",
      "metadata": {
        "colab": {
          "base_uri": "https://localhost:8080/",
          "height": 419
        },
        "id": "RxHNa6AaxbsI",
        "outputId": "82e6ea1d-01e3-4b0f-f58b-52c7c6abf894"
      },
      "source": [
        "u_cols = ['user_id', 'age', 'sex', 'occupation', 'zip_code']\n",
        "users = pd.read_csv('ml-100k/u.user', sep='|', names=u_cols) \n",
        "users"
      ],
      "execution_count": null,
      "outputs": [
        {
          "output_type": "execute_result",
          "data": {
            "text/html": [
              "<div>\n",
              "<style scoped>\n",
              "    .dataframe tbody tr th:only-of-type {\n",
              "        vertical-align: middle;\n",
              "    }\n",
              "\n",
              "    .dataframe tbody tr th {\n",
              "        vertical-align: top;\n",
              "    }\n",
              "\n",
              "    .dataframe thead th {\n",
              "        text-align: right;\n",
              "    }\n",
              "</style>\n",
              "<table border=\"1\" class=\"dataframe\">\n",
              "  <thead>\n",
              "    <tr style=\"text-align: right;\">\n",
              "      <th></th>\n",
              "      <th>user_id</th>\n",
              "      <th>age</th>\n",
              "      <th>sex</th>\n",
              "      <th>occupation</th>\n",
              "      <th>zip_code</th>\n",
              "    </tr>\n",
              "  </thead>\n",
              "  <tbody>\n",
              "    <tr>\n",
              "      <th>0</th>\n",
              "      <td>1</td>\n",
              "      <td>24</td>\n",
              "      <td>M</td>\n",
              "      <td>technician</td>\n",
              "      <td>85711</td>\n",
              "    </tr>\n",
              "    <tr>\n",
              "      <th>1</th>\n",
              "      <td>2</td>\n",
              "      <td>53</td>\n",
              "      <td>F</td>\n",
              "      <td>other</td>\n",
              "      <td>94043</td>\n",
              "    </tr>\n",
              "    <tr>\n",
              "      <th>2</th>\n",
              "      <td>3</td>\n",
              "      <td>23</td>\n",
              "      <td>M</td>\n",
              "      <td>writer</td>\n",
              "      <td>32067</td>\n",
              "    </tr>\n",
              "    <tr>\n",
              "      <th>3</th>\n",
              "      <td>4</td>\n",
              "      <td>24</td>\n",
              "      <td>M</td>\n",
              "      <td>technician</td>\n",
              "      <td>43537</td>\n",
              "    </tr>\n",
              "    <tr>\n",
              "      <th>4</th>\n",
              "      <td>5</td>\n",
              "      <td>33</td>\n",
              "      <td>F</td>\n",
              "      <td>other</td>\n",
              "      <td>15213</td>\n",
              "    </tr>\n",
              "    <tr>\n",
              "      <th>...</th>\n",
              "      <td>...</td>\n",
              "      <td>...</td>\n",
              "      <td>...</td>\n",
              "      <td>...</td>\n",
              "      <td>...</td>\n",
              "    </tr>\n",
              "    <tr>\n",
              "      <th>938</th>\n",
              "      <td>939</td>\n",
              "      <td>26</td>\n",
              "      <td>F</td>\n",
              "      <td>student</td>\n",
              "      <td>33319</td>\n",
              "    </tr>\n",
              "    <tr>\n",
              "      <th>939</th>\n",
              "      <td>940</td>\n",
              "      <td>32</td>\n",
              "      <td>M</td>\n",
              "      <td>administrator</td>\n",
              "      <td>02215</td>\n",
              "    </tr>\n",
              "    <tr>\n",
              "      <th>940</th>\n",
              "      <td>941</td>\n",
              "      <td>20</td>\n",
              "      <td>M</td>\n",
              "      <td>student</td>\n",
              "      <td>97229</td>\n",
              "    </tr>\n",
              "    <tr>\n",
              "      <th>941</th>\n",
              "      <td>942</td>\n",
              "      <td>48</td>\n",
              "      <td>F</td>\n",
              "      <td>librarian</td>\n",
              "      <td>78209</td>\n",
              "    </tr>\n",
              "    <tr>\n",
              "      <th>942</th>\n",
              "      <td>943</td>\n",
              "      <td>22</td>\n",
              "      <td>M</td>\n",
              "      <td>student</td>\n",
              "      <td>77841</td>\n",
              "    </tr>\n",
              "  </tbody>\n",
              "</table>\n",
              "<p>943 rows × 5 columns</p>\n",
              "</div>"
            ],
            "text/plain": [
              "     user_id  age sex     occupation zip_code\n",
              "0          1   24   M     technician    85711\n",
              "1          2   53   F          other    94043\n",
              "2          3   23   M         writer    32067\n",
              "3          4   24   M     technician    43537\n",
              "4          5   33   F          other    15213\n",
              "..       ...  ...  ..            ...      ...\n",
              "938      939   26   F        student    33319\n",
              "939      940   32   M  administrator    02215\n",
              "940      941   20   M        student    97229\n",
              "941      942   48   F      librarian    78209\n",
              "942      943   22   M        student    77841\n",
              "\n",
              "[943 rows x 5 columns]"
            ]
          },
          "metadata": {
            "tags": []
          },
          "execution_count": 274
        }
      ]
    },
    {
      "cell_type": "markdown",
      "metadata": {
        "id": "6pP7sB166O_t"
      },
      "source": [
        "### Об оценках пользователей по фильмам (рейтингах)"
      ]
    },
    {
      "cell_type": "code",
      "metadata": {
        "colab": {
          "base_uri": "https://localhost:8080/",
          "height": 419
        },
        "id": "fJCmKJLi0_Jv",
        "outputId": "93f44303-166a-4aef-9b60-c4a0a9cdc378"
      },
      "source": [
        "r_cols = ['user_id', 'movie_id', 'rating', 'unix_timestamp']\n",
        "ratings = pd.read_csv('ml-100k/u.data', sep='\\t', names=r_cols)\n",
        "ratings.drop( \"unix_timestamp\", inplace = True, axis = 1) \n",
        "ratings"
      ],
      "execution_count": null,
      "outputs": [
        {
          "output_type": "execute_result",
          "data": {
            "text/html": [
              "<div>\n",
              "<style scoped>\n",
              "    .dataframe tbody tr th:only-of-type {\n",
              "        vertical-align: middle;\n",
              "    }\n",
              "\n",
              "    .dataframe tbody tr th {\n",
              "        vertical-align: top;\n",
              "    }\n",
              "\n",
              "    .dataframe thead th {\n",
              "        text-align: right;\n",
              "    }\n",
              "</style>\n",
              "<table border=\"1\" class=\"dataframe\">\n",
              "  <thead>\n",
              "    <tr style=\"text-align: right;\">\n",
              "      <th></th>\n",
              "      <th>user_id</th>\n",
              "      <th>movie_id</th>\n",
              "      <th>rating</th>\n",
              "    </tr>\n",
              "  </thead>\n",
              "  <tbody>\n",
              "    <tr>\n",
              "      <th>0</th>\n",
              "      <td>196</td>\n",
              "      <td>242</td>\n",
              "      <td>3</td>\n",
              "    </tr>\n",
              "    <tr>\n",
              "      <th>1</th>\n",
              "      <td>186</td>\n",
              "      <td>302</td>\n",
              "      <td>3</td>\n",
              "    </tr>\n",
              "    <tr>\n",
              "      <th>2</th>\n",
              "      <td>22</td>\n",
              "      <td>377</td>\n",
              "      <td>1</td>\n",
              "    </tr>\n",
              "    <tr>\n",
              "      <th>3</th>\n",
              "      <td>244</td>\n",
              "      <td>51</td>\n",
              "      <td>2</td>\n",
              "    </tr>\n",
              "    <tr>\n",
              "      <th>4</th>\n",
              "      <td>166</td>\n",
              "      <td>346</td>\n",
              "      <td>1</td>\n",
              "    </tr>\n",
              "    <tr>\n",
              "      <th>...</th>\n",
              "      <td>...</td>\n",
              "      <td>...</td>\n",
              "      <td>...</td>\n",
              "    </tr>\n",
              "    <tr>\n",
              "      <th>99995</th>\n",
              "      <td>880</td>\n",
              "      <td>476</td>\n",
              "      <td>3</td>\n",
              "    </tr>\n",
              "    <tr>\n",
              "      <th>99996</th>\n",
              "      <td>716</td>\n",
              "      <td>204</td>\n",
              "      <td>5</td>\n",
              "    </tr>\n",
              "    <tr>\n",
              "      <th>99997</th>\n",
              "      <td>276</td>\n",
              "      <td>1090</td>\n",
              "      <td>1</td>\n",
              "    </tr>\n",
              "    <tr>\n",
              "      <th>99998</th>\n",
              "      <td>13</td>\n",
              "      <td>225</td>\n",
              "      <td>2</td>\n",
              "    </tr>\n",
              "    <tr>\n",
              "      <th>99999</th>\n",
              "      <td>12</td>\n",
              "      <td>203</td>\n",
              "      <td>3</td>\n",
              "    </tr>\n",
              "  </tbody>\n",
              "</table>\n",
              "<p>100000 rows × 3 columns</p>\n",
              "</div>"
            ],
            "text/plain": [
              "       user_id  movie_id  rating\n",
              "0          196       242       3\n",
              "1          186       302       3\n",
              "2           22       377       1\n",
              "3          244        51       2\n",
              "4          166       346       1\n",
              "...        ...       ...     ...\n",
              "99995      880       476       3\n",
              "99996      716       204       5\n",
              "99997      276      1090       1\n",
              "99998       13       225       2\n",
              "99999       12       203       3\n",
              "\n",
              "[100000 rows x 3 columns]"
            ]
          },
          "metadata": {
            "tags": []
          },
          "execution_count": 275
        }
      ]
    },
    {
      "cell_type": "markdown",
      "metadata": {
        "id": "pkoOzZkN6TYF"
      },
      "source": [
        "### О фильмах"
      ]
    },
    {
      "cell_type": "code",
      "metadata": {
        "colab": {
          "base_uri": "https://localhost:8080/",
          "height": 711
        },
        "id": "o3Xmowjd1Coz",
        "outputId": "7b11522d-40d8-472e-ae60-582087715451"
      },
      "source": [
        "def clean_title(title):\n",
        "    return re.sub(r\"[^a-zA-Z0-9 ]\", \"\",title)\n",
        "\n",
        "def genre(series):\n",
        "    genres = series.index[6:-2]\n",
        "    \n",
        "    text = []\n",
        "    for i in genres:\n",
        "        if series[i] == 1:\n",
        "            text.append(i)\n",
        "            break\n",
        "    return \", \".join(text)\n",
        "\n",
        "m_cols = ['movie_id', 'title', 'release_date', 'video_release_date', 'imdb_url']\n",
        "genre_cols = ['unknown', 'Action', 'Adventure', 'Animation','Childrens', 'Comedy', 'Crime',\n",
        "              'Documentary', 'Drama', 'Fantasy','Film-Noir','Horror', 'Musical', 'Mystery', \n",
        "              'Romance','Sci-Fi','Thriller' , 'War' , 'Western' ]\n",
        " \n",
        "movies = pd.read_csv('ml-100k/u.item', sep='|', names=m_cols+genre_cols,\n",
        "                     encoding='latin-1')\n",
        "\n",
        "movies['title'] = movies['title'].str.strip()\n",
        "movies['title'] = movies['title'].apply(clean_title)\n",
        "movies['release_year'] = movies.release_date.apply(lambda x: int(x.split('-')[2]) if isinstance(x, str) else -1)\n",
        "movies.drop(columns=['video_release_date', 'imdb_url', 'release_date'], inplace=True)\n",
        "\n",
        "movies = movies[movies.unknown != 1]\n",
        "movies.drop(columns=['unknown'], inplace=True)\n",
        "movies.reset_index(drop=True, inplace=True)\n",
        "movies"
      ],
      "execution_count": null,
      "outputs": [
        {
          "output_type": "execute_result",
          "data": {
            "text/html": [
              "<div>\n",
              "<style scoped>\n",
              "    .dataframe tbody tr th:only-of-type {\n",
              "        vertical-align: middle;\n",
              "    }\n",
              "\n",
              "    .dataframe tbody tr th {\n",
              "        vertical-align: top;\n",
              "    }\n",
              "\n",
              "    .dataframe thead th {\n",
              "        text-align: right;\n",
              "    }\n",
              "</style>\n",
              "<table border=\"1\" class=\"dataframe\">\n",
              "  <thead>\n",
              "    <tr style=\"text-align: right;\">\n",
              "      <th></th>\n",
              "      <th>movie_id</th>\n",
              "      <th>title</th>\n",
              "      <th>Action</th>\n",
              "      <th>Adventure</th>\n",
              "      <th>Animation</th>\n",
              "      <th>Childrens</th>\n",
              "      <th>Comedy</th>\n",
              "      <th>Crime</th>\n",
              "      <th>Documentary</th>\n",
              "      <th>Drama</th>\n",
              "      <th>Fantasy</th>\n",
              "      <th>Film-Noir</th>\n",
              "      <th>Horror</th>\n",
              "      <th>Musical</th>\n",
              "      <th>Mystery</th>\n",
              "      <th>Romance</th>\n",
              "      <th>Sci-Fi</th>\n",
              "      <th>Thriller</th>\n",
              "      <th>War</th>\n",
              "      <th>Western</th>\n",
              "      <th>release_year</th>\n",
              "    </tr>\n",
              "  </thead>\n",
              "  <tbody>\n",
              "    <tr>\n",
              "      <th>0</th>\n",
              "      <td>1</td>\n",
              "      <td>Toy Story 1995</td>\n",
              "      <td>0</td>\n",
              "      <td>0</td>\n",
              "      <td>1</td>\n",
              "      <td>1</td>\n",
              "      <td>1</td>\n",
              "      <td>0</td>\n",
              "      <td>0</td>\n",
              "      <td>0</td>\n",
              "      <td>0</td>\n",
              "      <td>0</td>\n",
              "      <td>0</td>\n",
              "      <td>0</td>\n",
              "      <td>0</td>\n",
              "      <td>0</td>\n",
              "      <td>0</td>\n",
              "      <td>0</td>\n",
              "      <td>0</td>\n",
              "      <td>0</td>\n",
              "      <td>1995</td>\n",
              "    </tr>\n",
              "    <tr>\n",
              "      <th>1</th>\n",
              "      <td>2</td>\n",
              "      <td>GoldenEye 1995</td>\n",
              "      <td>1</td>\n",
              "      <td>1</td>\n",
              "      <td>0</td>\n",
              "      <td>0</td>\n",
              "      <td>0</td>\n",
              "      <td>0</td>\n",
              "      <td>0</td>\n",
              "      <td>0</td>\n",
              "      <td>0</td>\n",
              "      <td>0</td>\n",
              "      <td>0</td>\n",
              "      <td>0</td>\n",
              "      <td>0</td>\n",
              "      <td>0</td>\n",
              "      <td>0</td>\n",
              "      <td>1</td>\n",
              "      <td>0</td>\n",
              "      <td>0</td>\n",
              "      <td>1995</td>\n",
              "    </tr>\n",
              "    <tr>\n",
              "      <th>2</th>\n",
              "      <td>3</td>\n",
              "      <td>Four Rooms 1995</td>\n",
              "      <td>0</td>\n",
              "      <td>0</td>\n",
              "      <td>0</td>\n",
              "      <td>0</td>\n",
              "      <td>0</td>\n",
              "      <td>0</td>\n",
              "      <td>0</td>\n",
              "      <td>0</td>\n",
              "      <td>0</td>\n",
              "      <td>0</td>\n",
              "      <td>0</td>\n",
              "      <td>0</td>\n",
              "      <td>0</td>\n",
              "      <td>0</td>\n",
              "      <td>0</td>\n",
              "      <td>1</td>\n",
              "      <td>0</td>\n",
              "      <td>0</td>\n",
              "      <td>1995</td>\n",
              "    </tr>\n",
              "    <tr>\n",
              "      <th>3</th>\n",
              "      <td>4</td>\n",
              "      <td>Get Shorty 1995</td>\n",
              "      <td>1</td>\n",
              "      <td>0</td>\n",
              "      <td>0</td>\n",
              "      <td>0</td>\n",
              "      <td>1</td>\n",
              "      <td>0</td>\n",
              "      <td>0</td>\n",
              "      <td>1</td>\n",
              "      <td>0</td>\n",
              "      <td>0</td>\n",
              "      <td>0</td>\n",
              "      <td>0</td>\n",
              "      <td>0</td>\n",
              "      <td>0</td>\n",
              "      <td>0</td>\n",
              "      <td>0</td>\n",
              "      <td>0</td>\n",
              "      <td>0</td>\n",
              "      <td>1995</td>\n",
              "    </tr>\n",
              "    <tr>\n",
              "      <th>4</th>\n",
              "      <td>5</td>\n",
              "      <td>Copycat 1995</td>\n",
              "      <td>0</td>\n",
              "      <td>0</td>\n",
              "      <td>0</td>\n",
              "      <td>0</td>\n",
              "      <td>0</td>\n",
              "      <td>1</td>\n",
              "      <td>0</td>\n",
              "      <td>1</td>\n",
              "      <td>0</td>\n",
              "      <td>0</td>\n",
              "      <td>0</td>\n",
              "      <td>0</td>\n",
              "      <td>0</td>\n",
              "      <td>0</td>\n",
              "      <td>0</td>\n",
              "      <td>1</td>\n",
              "      <td>0</td>\n",
              "      <td>0</td>\n",
              "      <td>1995</td>\n",
              "    </tr>\n",
              "    <tr>\n",
              "      <th>...</th>\n",
              "      <td>...</td>\n",
              "      <td>...</td>\n",
              "      <td>...</td>\n",
              "      <td>...</td>\n",
              "      <td>...</td>\n",
              "      <td>...</td>\n",
              "      <td>...</td>\n",
              "      <td>...</td>\n",
              "      <td>...</td>\n",
              "      <td>...</td>\n",
              "      <td>...</td>\n",
              "      <td>...</td>\n",
              "      <td>...</td>\n",
              "      <td>...</td>\n",
              "      <td>...</td>\n",
              "      <td>...</td>\n",
              "      <td>...</td>\n",
              "      <td>...</td>\n",
              "      <td>...</td>\n",
              "      <td>...</td>\n",
              "      <td>...</td>\n",
              "    </tr>\n",
              "    <tr>\n",
              "      <th>1675</th>\n",
              "      <td>1678</td>\n",
              "      <td>Mat i syn 1997</td>\n",
              "      <td>0</td>\n",
              "      <td>0</td>\n",
              "      <td>0</td>\n",
              "      <td>0</td>\n",
              "      <td>0</td>\n",
              "      <td>0</td>\n",
              "      <td>0</td>\n",
              "      <td>1</td>\n",
              "      <td>0</td>\n",
              "      <td>0</td>\n",
              "      <td>0</td>\n",
              "      <td>0</td>\n",
              "      <td>0</td>\n",
              "      <td>0</td>\n",
              "      <td>0</td>\n",
              "      <td>0</td>\n",
              "      <td>0</td>\n",
              "      <td>0</td>\n",
              "      <td>1998</td>\n",
              "    </tr>\n",
              "    <tr>\n",
              "      <th>1676</th>\n",
              "      <td>1679</td>\n",
              "      <td>B Monkey 1998</td>\n",
              "      <td>0</td>\n",
              "      <td>0</td>\n",
              "      <td>0</td>\n",
              "      <td>0</td>\n",
              "      <td>0</td>\n",
              "      <td>0</td>\n",
              "      <td>0</td>\n",
              "      <td>0</td>\n",
              "      <td>0</td>\n",
              "      <td>0</td>\n",
              "      <td>0</td>\n",
              "      <td>0</td>\n",
              "      <td>0</td>\n",
              "      <td>1</td>\n",
              "      <td>0</td>\n",
              "      <td>1</td>\n",
              "      <td>0</td>\n",
              "      <td>0</td>\n",
              "      <td>1998</td>\n",
              "    </tr>\n",
              "    <tr>\n",
              "      <th>1677</th>\n",
              "      <td>1680</td>\n",
              "      <td>Sliding Doors 1998</td>\n",
              "      <td>0</td>\n",
              "      <td>0</td>\n",
              "      <td>0</td>\n",
              "      <td>0</td>\n",
              "      <td>0</td>\n",
              "      <td>0</td>\n",
              "      <td>0</td>\n",
              "      <td>1</td>\n",
              "      <td>0</td>\n",
              "      <td>0</td>\n",
              "      <td>0</td>\n",
              "      <td>0</td>\n",
              "      <td>0</td>\n",
              "      <td>1</td>\n",
              "      <td>0</td>\n",
              "      <td>0</td>\n",
              "      <td>0</td>\n",
              "      <td>0</td>\n",
              "      <td>1998</td>\n",
              "    </tr>\n",
              "    <tr>\n",
              "      <th>1678</th>\n",
              "      <td>1681</td>\n",
              "      <td>You So Crazy 1994</td>\n",
              "      <td>0</td>\n",
              "      <td>0</td>\n",
              "      <td>0</td>\n",
              "      <td>0</td>\n",
              "      <td>1</td>\n",
              "      <td>0</td>\n",
              "      <td>0</td>\n",
              "      <td>0</td>\n",
              "      <td>0</td>\n",
              "      <td>0</td>\n",
              "      <td>0</td>\n",
              "      <td>0</td>\n",
              "      <td>0</td>\n",
              "      <td>0</td>\n",
              "      <td>0</td>\n",
              "      <td>0</td>\n",
              "      <td>0</td>\n",
              "      <td>0</td>\n",
              "      <td>1994</td>\n",
              "    </tr>\n",
              "    <tr>\n",
              "      <th>1679</th>\n",
              "      <td>1682</td>\n",
              "      <td>Scream of Stone Schrei aus Stein 1991</td>\n",
              "      <td>0</td>\n",
              "      <td>0</td>\n",
              "      <td>0</td>\n",
              "      <td>0</td>\n",
              "      <td>0</td>\n",
              "      <td>0</td>\n",
              "      <td>0</td>\n",
              "      <td>1</td>\n",
              "      <td>0</td>\n",
              "      <td>0</td>\n",
              "      <td>0</td>\n",
              "      <td>0</td>\n",
              "      <td>0</td>\n",
              "      <td>0</td>\n",
              "      <td>0</td>\n",
              "      <td>0</td>\n",
              "      <td>0</td>\n",
              "      <td>0</td>\n",
              "      <td>1996</td>\n",
              "    </tr>\n",
              "  </tbody>\n",
              "</table>\n",
              "<p>1680 rows × 21 columns</p>\n",
              "</div>"
            ],
            "text/plain": [
              "      movie_id                                  title  ...  Western  release_year\n",
              "0            1                         Toy Story 1995  ...        0          1995\n",
              "1            2                         GoldenEye 1995  ...        0          1995\n",
              "2            3                        Four Rooms 1995  ...        0          1995\n",
              "3            4                        Get Shorty 1995  ...        0          1995\n",
              "4            5                           Copycat 1995  ...        0          1995\n",
              "...        ...                                    ...  ...      ...           ...\n",
              "1675      1678                         Mat i syn 1997  ...        0          1998\n",
              "1676      1679                          B Monkey 1998  ...        0          1998\n",
              "1677      1680                     Sliding Doors 1998  ...        0          1998\n",
              "1678      1681                      You So Crazy 1994  ...        0          1994\n",
              "1679      1682  Scream of Stone Schrei aus Stein 1991  ...        0          1996\n",
              "\n",
              "[1680 rows x 21 columns]"
            ]
          },
          "metadata": {
            "tags": []
          },
          "execution_count": 276
        }
      ]
    },
    {
      "cell_type": "markdown",
      "metadata": {
        "id": "_ZCZyK0EGIAe"
      },
      "source": [
        "## Готовим данные"
      ]
    },
    {
      "cell_type": "code",
      "metadata": {
        "id": "G5CeE4AY9AS3"
      },
      "source": [
        "from sklearn.preprocessing import RobustScaler\n",
        "\n",
        "movie_ranking = []\n",
        "for movie_id in movies.movie_id:\n",
        "  sum_rank = 0\n",
        "  count_rank = 0\n",
        "  for rank, movie in zip(ratings.rating, ratings.movie_id):\n",
        "    if movie == movie_id:\n",
        "      sum_rank += rank\n",
        "      count_rank += 1\n",
        "  movie_ranking.append(sum_rank/count_rank)"
      ],
      "execution_count": null,
      "outputs": []
    },
    {
      "cell_type": "code",
      "metadata": {
        "id": "jwooG7Bz-l3A"
      },
      "source": [
        "scaler = RobustScaler()\n",
        "movies['mean_rank'] = scaler.fit_transform(np.array(movie_ranking).reshape(-1, 1))"
      ],
      "execution_count": null,
      "outputs": []
    },
    {
      "cell_type": "code",
      "metadata": {
        "colab": {
          "base_uri": "https://localhost:8080/",
          "height": 282
        },
        "id": "eDHYVpYc-sbx",
        "outputId": "9d1f1e35-b09a-4b69-857b-c59993e662a0"
      },
      "source": [
        "movies.mean_rank.hist()"
      ],
      "execution_count": null,
      "outputs": [
        {
          "output_type": "execute_result",
          "data": {
            "text/plain": [
              "<matplotlib.axes._subplots.AxesSubplot at 0x7f554b9a9210>"
            ]
          },
          "metadata": {
            "tags": []
          },
          "execution_count": 59
        },
        {
          "output_type": "display_data",
          "data": {
            "image/png": "[encoded data removed]",
            "text/plain": [
              "<Figure size 432x288 with 1 Axes>"
            ]
          },
          "metadata": {
            "tags": [],
            "needs_background": "light"
          }
        }
      ]
    },
    {
      "cell_type": "code",
      "metadata": {
        "colab": {
          "base_uri": "https://localhost:8080/",
          "height": 390
        },
        "id": "l1yAv1Ws3Kdu",
        "outputId": "5fa8ce64-ab9b-40b6-c16a-6d5b7f583475"
      },
      "source": [
        "plt.figure(figsize=(12, 6))\n",
        "ratings.user_id.hist()\n",
        "plt.title('Количество отзывов по id')\n",
        "plt.show()"
      ],
      "execution_count": null,
      "outputs": [
        {
          "output_type": "display_data",
          "data": {
            "image/png": "[encoded data removed]",
            "text/plain": [
              "<Figure size 864x432 with 1 Axes>"
            ]
          },
          "metadata": {
            "tags": [],
            "needs_background": "light"
          }
        }
      ]
    },
    {
      "cell_type": "markdown",
      "metadata": {
        "id": "_fsqIwDN65lo"
      },
      "source": [
        "## Фильтрация на основе содержания"
      ]
    },
    {
      "cell_type": "code",
      "metadata": {
        "id": "q9-biOX05ltL"
      },
      "source": [
        "from sklearn.metrics.pairwise import cosine_similarity, euclidean_distances, manhattan_distances\n",
        "\n",
        "class SimpleKNNRecommender:\n",
        "    def __init__(self, X_matrix, X_ids, X_title, X_rank):\n",
        "        \"\"\"\n",
        "        Входные параметры:\n",
        "        X_matrix - обучающая выборка (матрица объект-признак)\n",
        "        X_ids - массив идентификаторов объектов\n",
        "        X_title - массив названий объектов\n",
        "        X_rank - массив среднего рейтинга фильмов\n",
        "        \"\"\"\n",
        "        #Сохраняем параметры в переменных объекта\n",
        "        self._X_matrix = X_matrix\n",
        "        self.df = pd.DataFrame(\n",
        "            {'movie_id': pd.Series(X_ids, dtype='int'),\n",
        "            'title': pd.Series(X_title, dtype='str'),\n",
        "            'cos_sim': pd.Series([], dtype='float'),\n",
        "             'mean_rank': pd.Series(X_rank, dtype='float')})\n",
        "            \n",
        "            \n",
        "    def recommend_for_single_object(self, K: int, \\\n",
        "                X_matrix_object, search_movie_id):\n",
        "        \"\"\"\n",
        "        Метод формирования рекомендаций для одного объекта.\n",
        "        Входные параметры:\n",
        "        K - количество рекомендуемых соседей \n",
        "        X_matrix_object - строка матрицы объект-признак, соответствующая объекту\n",
        "        search_movie_id - id фильмов\n",
        "        Возвращаемое значение: K найденных соседей\n",
        "        \"\"\"\n",
        "        \n",
        "        scale = 100000\n",
        "        # Вычисляем косинусную близость по матрице жанров\n",
        "    \n",
        "        dist = cosine_similarity(self._X_matrix, X_matrix_object)\n",
        "        self.df['cos_sim'] = (dist * scale).round(2)\n",
        "        res = self.df\n",
        "        \n",
        "        res = res[(res.cos_sim <= scale) & (res.movie_id != search_movie_id)]\n",
        "\n",
        "        res.drop_duplicates(subset=['movie_id'], inplace=True) # сбрасываем дубликаты если они есть\n",
        "        res = res.sort_values(by=['cos_sim', 'mean_rank'], ascending=[False, False])\n",
        "\n",
        "        # Оставляем К первых рекомендаций\n",
        "        return res.head(K)"
      ],
      "execution_count": null,
      "outputs": []
    },
    {
      "cell_type": "code",
      "metadata": {
        "colab": {
          "base_uri": "https://localhost:8080/"
        },
        "id": "BFXW93pm58mu",
        "outputId": "9ce22565-5314-4a16-f4c5-d64a7c32cdd9"
      },
      "source": [
        "test_movie = movies.iloc[4]\n",
        "test_movie\n",
        "\n",
        "movie_matrix = movies.iloc[:, 2:-1]"
      ],
      "execution_count": null,
      "outputs": [
        {
          "output_type": "execute_result",
          "data": {
            "text/plain": [
              "movie_id                   5\n",
              "title           Copycat 1995\n",
              "Action                     0\n",
              "Adventure                  0\n",
              "Animation                  0\n",
              "Childrens                  0\n",
              "Comedy                     0\n",
              "Crime                      1\n",
              "Documentary                0\n",
              "Drama                      1\n",
              "Fantasy                    0\n",
              "Film-Noir                  0\n",
              "Horror                     0\n",
              "Musical                    0\n",
              "Mystery                    0\n",
              "Romance                    0\n",
              "Sci-Fi                     0\n",
              "Thriller                   1\n",
              "War                        0\n",
              "Western                    0\n",
              "release_year            1995\n",
              "mean_rank           0.141662\n",
              "Name: 4, dtype: object"
            ]
          },
          "metadata": {
            "tags": []
          },
          "execution_count": 161
        }
      ]
    },
    {
      "cell_type": "code",
      "metadata": {
        "colab": {
          "base_uri": "https://localhost:8080/",
          "height": 547
        },
        "id": "_4vMgW177nRk",
        "outputId": "8419e39b-248f-4c80-8f9c-bf02a06291e3"
      },
      "source": [
        "recommender = SimpleKNNRecommender(movie_matrix, movies.movie_id,\n",
        "                                   movies.title, movies.mean_rank)\n",
        "\n",
        "rec1 = recommender.recommend_for_single_object(K=5,\n",
        "                                               X_matrix_object=movie_matrix[test_movie.movie_id].reshape(1,-1),\n",
        "                                               search_movie_id = test_movie.movie_id,)\n",
        "\n",
        "print('Searching same as:', movies[movies.movie_id == test_movie.movie_id].title.iloc[0])\n",
        "\n",
        "rec1.drop_duplicates(subset=['movie_id'], inplace=True)\n",
        "rec1[['movie_id', 'title', 'cos_sim', 'mean_rank']]\n",
        "\n",
        "rec1.join(movies[[i for i in movies.columns if i !='title' and i != 'mean_rank']], lsuffix='l_')"
      ],
      "execution_count": null,
      "outputs": [
        {
          "output_type": "stream",
          "text": [
            "Searching same as: Copycat 1995\n"
          ],
          "name": "stdout"
        },
        {
          "output_type": "stream",
          "text": [
            "/usr/local/lib/python3.7/dist-packages/ipykernel_launcher.py:41: SettingWithCopyWarning: \n",
            "A value is trying to be set on a copy of a slice from a DataFrame\n",
            "\n",
            "See the caveats in the documentation: https://pandas.pydata.org/pandas-docs/stable/user_guide/indexing.html#returning-a-view-versus-a-copy\n"
          ],
          "name": "stderr"
        },
        {
          "output_type": "execute_result",
          "data": {
            "text/html": [
              "<div>\n",
              "<style scoped>\n",
              "    .dataframe tbody tr th:only-of-type {\n",
              "        vertical-align: middle;\n",
              "    }\n",
              "\n",
              "    .dataframe tbody tr th {\n",
              "        vertical-align: top;\n",
              "    }\n",
              "\n",
              "    .dataframe thead th {\n",
              "        text-align: right;\n",
              "    }\n",
              "</style>\n",
              "<table border=\"1\" class=\"dataframe\">\n",
              "  <thead>\n",
              "    <tr style=\"text-align: right;\">\n",
              "      <th></th>\n",
              "      <th>movie_idl_</th>\n",
              "      <th>title</th>\n",
              "      <th>cos_sim</th>\n",
              "      <th>mean_rank</th>\n",
              "      <th>movie_id</th>\n",
              "      <th>Action</th>\n",
              "      <th>Adventure</th>\n",
              "      <th>Animation</th>\n",
              "      <th>Childrens</th>\n",
              "      <th>Comedy</th>\n",
              "      <th>Crime</th>\n",
              "      <th>Documentary</th>\n",
              "      <th>Drama</th>\n",
              "      <th>Fantasy</th>\n",
              "      <th>Film-Noir</th>\n",
              "      <th>Horror</th>\n",
              "      <th>Musical</th>\n",
              "      <th>Mystery</th>\n",
              "      <th>Romance</th>\n",
              "      <th>Sci-Fi</th>\n",
              "      <th>Thriller</th>\n",
              "      <th>War</th>\n",
              "      <th>Western</th>\n",
              "      <th>release_year</th>\n",
              "    </tr>\n",
              "  </thead>\n",
              "  <tbody>\n",
              "    <tr>\n",
              "      <th>1393</th>\n",
              "      <td>1396</td>\n",
              "      <td>Stonewall 1995</td>\n",
              "      <td>100000.0</td>\n",
              "      <td>1.044843</td>\n",
              "      <td>1396</td>\n",
              "      <td>0</td>\n",
              "      <td>0</td>\n",
              "      <td>0</td>\n",
              "      <td>0</td>\n",
              "      <td>0</td>\n",
              "      <td>0</td>\n",
              "      <td>0</td>\n",
              "      <td>1</td>\n",
              "      <td>0</td>\n",
              "      <td>0</td>\n",
              "      <td>0</td>\n",
              "      <td>0</td>\n",
              "      <td>0</td>\n",
              "      <td>0</td>\n",
              "      <td>0</td>\n",
              "      <td>0</td>\n",
              "      <td>0</td>\n",
              "      <td>0</td>\n",
              "      <td>1996</td>\n",
              "    </tr>\n",
              "    <tr>\n",
              "      <th>921</th>\n",
              "      <td>923</td>\n",
              "      <td>Raise the Red Lantern 1991</td>\n",
              "      <td>100000.0</td>\n",
              "      <td>0.999741</td>\n",
              "      <td>923</td>\n",
              "      <td>0</td>\n",
              "      <td>0</td>\n",
              "      <td>0</td>\n",
              "      <td>0</td>\n",
              "      <td>0</td>\n",
              "      <td>0</td>\n",
              "      <td>0</td>\n",
              "      <td>1</td>\n",
              "      <td>0</td>\n",
              "      <td>0</td>\n",
              "      <td>0</td>\n",
              "      <td>0</td>\n",
              "      <td>0</td>\n",
              "      <td>0</td>\n",
              "      <td>0</td>\n",
              "      <td>0</td>\n",
              "      <td>0</td>\n",
              "      <td>0</td>\n",
              "      <td>1991</td>\n",
              "    </tr>\n",
              "    <tr>\n",
              "      <th>135</th>\n",
              "      <td>136</td>\n",
              "      <td>Mr Smith Goes to Washington 1939</td>\n",
              "      <td>100000.0</td>\n",
              "      <td>0.968185</td>\n",
              "      <td>136</td>\n",
              "      <td>0</td>\n",
              "      <td>0</td>\n",
              "      <td>0</td>\n",
              "      <td>0</td>\n",
              "      <td>0</td>\n",
              "      <td>0</td>\n",
              "      <td>0</td>\n",
              "      <td>1</td>\n",
              "      <td>0</td>\n",
              "      <td>0</td>\n",
              "      <td>0</td>\n",
              "      <td>0</td>\n",
              "      <td>0</td>\n",
              "      <td>0</td>\n",
              "      <td>0</td>\n",
              "      <td>0</td>\n",
              "      <td>0</td>\n",
              "      <td>0</td>\n",
              "      <td>1939</td>\n",
              "    </tr>\n",
              "    <tr>\n",
              "      <th>494</th>\n",
              "      <td>496</td>\n",
              "      <td>Its a Wonderful Life 1946</td>\n",
              "      <td>100000.0</td>\n",
              "      <td>0.965572</td>\n",
              "      <td>496</td>\n",
              "      <td>0</td>\n",
              "      <td>0</td>\n",
              "      <td>0</td>\n",
              "      <td>0</td>\n",
              "      <td>0</td>\n",
              "      <td>0</td>\n",
              "      <td>0</td>\n",
              "      <td>1</td>\n",
              "      <td>0</td>\n",
              "      <td>0</td>\n",
              "      <td>0</td>\n",
              "      <td>0</td>\n",
              "      <td>0</td>\n",
              "      <td>0</td>\n",
              "      <td>0</td>\n",
              "      <td>0</td>\n",
              "      <td>0</td>\n",
              "      <td>0</td>\n",
              "      <td>1946</td>\n",
              "    </tr>\n",
              "    <tr>\n",
              "      <th>165</th>\n",
              "      <td>166</td>\n",
              "      <td>Manon of the Spring Manon des sources 1986</td>\n",
              "      <td>100000.0</td>\n",
              "      <td>0.965046</td>\n",
              "      <td>166</td>\n",
              "      <td>0</td>\n",
              "      <td>0</td>\n",
              "      <td>0</td>\n",
              "      <td>0</td>\n",
              "      <td>0</td>\n",
              "      <td>0</td>\n",
              "      <td>0</td>\n",
              "      <td>1</td>\n",
              "      <td>0</td>\n",
              "      <td>0</td>\n",
              "      <td>0</td>\n",
              "      <td>0</td>\n",
              "      <td>0</td>\n",
              "      <td>0</td>\n",
              "      <td>0</td>\n",
              "      <td>0</td>\n",
              "      <td>0</td>\n",
              "      <td>0</td>\n",
              "      <td>1986</td>\n",
              "    </tr>\n",
              "  </tbody>\n",
              "</table>\n",
              "</div>"
            ],
            "text/plain": [
              "      movie_idl_  ... release_year\n",
              "1393        1396  ...         1996\n",
              "921          923  ...         1991\n",
              "135          136  ...         1939\n",
              "494          496  ...         1946\n",
              "165          166  ...         1986\n",
              "\n",
              "[5 rows x 24 columns]"
            ]
          },
          "metadata": {
            "tags": []
          },
          "execution_count": 164
        }
      ]
    },
    {
      "cell_type": "markdown",
      "metadata": {
        "id": "IaXcdnqKGDSw"
      },
      "source": [
        "## Коллаборативная фильтрация"
      ]
    },
    {
      "cell_type": "markdown",
      "metadata": {
        "id": "yDfsx8afNktN"
      },
      "source": [
        "### Готовим даныне о пользователях"
      ]
    },
    {
      "cell_type": "code",
      "metadata": {
        "colab": {
          "base_uri": "https://localhost:8080/",
          "height": 419
        },
        "id": "IDzl3oTbEPJF",
        "outputId": "270ce3e3-4611-4383-a0e9-2f2cc1ee2b3f"
      },
      "source": [
        "users"
      ],
      "execution_count": null,
      "outputs": [
        {
          "output_type": "execute_result",
          "data": {
            "text/html": [
              "<div>\n",
              "<style scoped>\n",
              "    .dataframe tbody tr th:only-of-type {\n",
              "        vertical-align: middle;\n",
              "    }\n",
              "\n",
              "    .dataframe tbody tr th {\n",
              "        vertical-align: top;\n",
              "    }\n",
              "\n",
              "    .dataframe thead th {\n",
              "        text-align: right;\n",
              "    }\n",
              "</style>\n",
              "<table border=\"1\" class=\"dataframe\">\n",
              "  <thead>\n",
              "    <tr style=\"text-align: right;\">\n",
              "      <th></th>\n",
              "      <th>user_id</th>\n",
              "      <th>age</th>\n",
              "      <th>sex</th>\n",
              "      <th>occupation</th>\n",
              "      <th>zip_code</th>\n",
              "    </tr>\n",
              "  </thead>\n",
              "  <tbody>\n",
              "    <tr>\n",
              "      <th>0</th>\n",
              "      <td>1</td>\n",
              "      <td>24</td>\n",
              "      <td>M</td>\n",
              "      <td>technician</td>\n",
              "      <td>85711</td>\n",
              "    </tr>\n",
              "    <tr>\n",
              "      <th>1</th>\n",
              "      <td>2</td>\n",
              "      <td>53</td>\n",
              "      <td>F</td>\n",
              "      <td>other</td>\n",
              "      <td>94043</td>\n",
              "    </tr>\n",
              "    <tr>\n",
              "      <th>2</th>\n",
              "      <td>3</td>\n",
              "      <td>23</td>\n",
              "      <td>M</td>\n",
              "      <td>writer</td>\n",
              "      <td>32067</td>\n",
              "    </tr>\n",
              "    <tr>\n",
              "      <th>3</th>\n",
              "      <td>4</td>\n",
              "      <td>24</td>\n",
              "      <td>M</td>\n",
              "      <td>technician</td>\n",
              "      <td>43537</td>\n",
              "    </tr>\n",
              "    <tr>\n",
              "      <th>4</th>\n",
              "      <td>5</td>\n",
              "      <td>33</td>\n",
              "      <td>F</td>\n",
              "      <td>other</td>\n",
              "      <td>15213</td>\n",
              "    </tr>\n",
              "    <tr>\n",
              "      <th>...</th>\n",
              "      <td>...</td>\n",
              "      <td>...</td>\n",
              "      <td>...</td>\n",
              "      <td>...</td>\n",
              "      <td>...</td>\n",
              "    </tr>\n",
              "    <tr>\n",
              "      <th>938</th>\n",
              "      <td>939</td>\n",
              "      <td>26</td>\n",
              "      <td>F</td>\n",
              "      <td>student</td>\n",
              "      <td>33319</td>\n",
              "    </tr>\n",
              "    <tr>\n",
              "      <th>939</th>\n",
              "      <td>940</td>\n",
              "      <td>32</td>\n",
              "      <td>M</td>\n",
              "      <td>administrator</td>\n",
              "      <td>02215</td>\n",
              "    </tr>\n",
              "    <tr>\n",
              "      <th>940</th>\n",
              "      <td>941</td>\n",
              "      <td>20</td>\n",
              "      <td>M</td>\n",
              "      <td>student</td>\n",
              "      <td>97229</td>\n",
              "    </tr>\n",
              "    <tr>\n",
              "      <th>941</th>\n",
              "      <td>942</td>\n",
              "      <td>48</td>\n",
              "      <td>F</td>\n",
              "      <td>librarian</td>\n",
              "      <td>78209</td>\n",
              "    </tr>\n",
              "    <tr>\n",
              "      <th>942</th>\n",
              "      <td>943</td>\n",
              "      <td>22</td>\n",
              "      <td>M</td>\n",
              "      <td>student</td>\n",
              "      <td>77841</td>\n",
              "    </tr>\n",
              "  </tbody>\n",
              "</table>\n",
              "<p>943 rows × 5 columns</p>\n",
              "</div>"
            ],
            "text/plain": [
              "     user_id  age sex     occupation zip_code\n",
              "0          1   24   M     technician    85711\n",
              "1          2   53   F          other    94043\n",
              "2          3   23   M         writer    32067\n",
              "3          4   24   M     technician    43537\n",
              "4          5   33   F          other    15213\n",
              "..       ...  ...  ..            ...      ...\n",
              "938      939   26   F        student    33319\n",
              "939      940   32   M  administrator    02215\n",
              "940      941   20   M        student    97229\n",
              "941      942   48   F      librarian    78209\n",
              "942      943   22   M        student    77841\n",
              "\n",
              "[943 rows x 5 columns]"
            ]
          },
          "metadata": {
            "tags": []
          },
          "execution_count": 278
        }
      ]
    },
    {
      "cell_type": "code",
      "metadata": {
        "id": "nOQdCVbMGdHA"
      },
      "source": [
        "top_1_arr = []\n",
        "\n",
        "for user in users.user_id:\n",
        "  top_1 = None\n",
        "  max_1 = 0\n",
        "  \n",
        "  for u_id, m_id, rating in zip(ratings.user_id, ratings.movie_id, ratings.rating):\n",
        "    if u_id == user:\n",
        "      if rating > max_1:\n",
        "        max_1 = rating\n",
        "        top_1 = m_id\n",
        "\n",
        "  top_1_arr.append(top_1)\n",
        "\n",
        "users['movie_id'] = top_1_arr"
      ],
      "execution_count": null,
      "outputs": []
    },
    {
      "cell_type": "code",
      "metadata": {
        "id": "TwKAsMisHt5h"
      },
      "source": [
        "users = users.merge(movies[['movie_id', 'mean_rank']])"
      ],
      "execution_count": null,
      "outputs": []
    },
    {
      "cell_type": "code",
      "metadata": {
        "id": "6jJumtQ-KDQH"
      },
      "source": [
        "users['sex'] = users.sex.apply(lambda x: 1 if x == 'M' else 0)"
      ],
      "execution_count": null,
      "outputs": []
    },
    {
      "cell_type": "code",
      "metadata": {
        "colab": {
          "base_uri": "https://localhost:8080/"
        },
        "id": "pFk3ajuRLRCs",
        "outputId": "e6470983-47fa-4f75-a885-1ceb28560e47"
      },
      "source": [
        "from sklearn.preprocessing import LabelEncoder\n",
        "\n",
        "print('count of different occupations', len(users['occupation'].unique()))\n",
        "occ_enc = LabelEncoder()\n",
        "users['occupation'] = occ_enc.fit_transform(users.occupation)"
      ],
      "execution_count": null,
      "outputs": [
        {
          "output_type": "stream",
          "text": [
            "count of different occupations 21\n"
          ],
          "name": "stdout"
        }
      ]
    },
    {
      "cell_type": "code",
      "metadata": {
        "id": "fWwW9_oCMRuM"
      },
      "source": [
        "def zip_code_processing(code):\n",
        "  if code.isdigit():\n",
        "    return int(code)\n",
        "  else:\n",
        "    return np.NaN\n",
        "\n",
        "users['zip_code'] = users.zip_code.apply(zip_code_processing)"
      ],
      "execution_count": null,
      "outputs": []
    },
    {
      "cell_type": "code",
      "metadata": {
        "id": "Si-V7EuQMpdq"
      },
      "source": [
        "users.zip_code.fillna(value=users.zip_code.mode()[0], inplace=True)"
      ],
      "execution_count": null,
      "outputs": []
    },
    {
      "cell_type": "code",
      "metadata": {
        "colab": {
          "base_uri": "https://localhost:8080/"
        },
        "id": "QmRYJc0XLdzy",
        "outputId": "7e54ad75-7474-4456-85a8-37ef795f5e5b"
      },
      "source": [
        "from sklearn.preprocessing import MinMaxScaler\n",
        "\n",
        "\n",
        "scaler_mm = MinMaxScaler()\n",
        "users_matrix = scaler_mm.fit_transform(users)\n",
        "users_matrix.shape"
      ],
      "execution_count": null,
      "outputs": [
        {
          "output_type": "execute_result",
          "data": {
            "text/plain": [
              "(943, 7)"
            ]
          },
          "metadata": {
            "tags": []
          },
          "execution_count": 290
        }
      ]
    },
    {
      "cell_type": "markdown",
      "metadata": {
        "id": "zcUADNmLNn5h"
      },
      "source": [
        "### Делаем рекоммендацию"
      ]
    },
    {
      "cell_type": "code",
      "metadata": {
        "colab": {
          "base_uri": "https://localhost:8080/"
        },
        "id": "adsbwPjbNb6i",
        "outputId": "b6ee75c0-d8df-4741-f027-44a03f7469f1"
      },
      "source": [
        "TEST_USER_INDEX = 400\n",
        "\n",
        "test_user = users.iloc[TEST_USER_INDEX]\n",
        "test_user_id = users.iloc[TEST_USER_INDEX].user_id\n",
        "# test_user_titles = list(set(df_not_encoded[df_not_encoded.user_id == test_user_id].title))\n",
        "print('test_user_id', test_user_id, '\\n', test_user)\n",
        "\n",
        "\n",
        "test_user_matrix = np.array(test_user).reshape(1, -1)\n",
        "print(test_user_matrix.shape)\n",
        "\n",
        "rec = users.copy()\n",
        "\n",
        "rec['similarity'] = cosine_similarity(users_matrix, test_user_matrix)"
      ],
      "execution_count": null,
      "outputs": [
        {
          "output_type": "stream",
          "text": [
            "test_user_id 691.0 \n",
            " user_id         691.000000\n",
            "age              34.000000\n",
            "sex               0.000000\n",
            "occupation        3.000000\n",
            "zip_code      60089.000000\n",
            "movie_id        603.000000\n",
            "mean_rank         1.233554\n",
            "Name: 400, dtype: float64\n",
            "(1, 7)\n"
          ],
          "name": "stdout"
        }
      ]
    },
    {
      "cell_type": "code",
      "metadata": {
        "colab": {
          "base_uri": "https://localhost:8080/"
        },
        "id": "KVmpJcPINxIP",
        "outputId": "d61a9731-4697-4f17-a2a0-02a90c86d352"
      },
      "source": [
        "rec = rec[rec.user_id != TEST_USER_INDEX]\n",
        "rec = rec.sort_values(by=['similarity'], ascending=False).reset_index(drop=True)\n",
        "\n",
        "\n",
        "def get_seen_test_movies(ratings_df, movies_df, user_index):\n",
        "  ratings_df = ratings_df[ratings_df.user_id == user_index].merge(movies_df)  \n",
        "  return list(ratings_df.iloc[:, 3])\n",
        "\n",
        "\n",
        "result_rec = rec.head(5).merge(movies[['movie_id','title']] )\n",
        "\n",
        "seen_movies = get_seen_test_movies(ratings, movies, TEST_USER_INDEX)\n",
        "seen_movies\n",
        "\n",
        "flag = 0\n",
        "for i in result_rec.iloc[:, -1]:\n",
        "  if i not in seen_movies:\n",
        "    flag = 1\n",
        "    print(i)\n",
        "    break\n",
        "\n",
        "if flag == 0:\n",
        "  print('Выберите больше похожих пользователей чтобы получить рекоммендуемый фильм, который вы еще не смотрели')"
      ],
      "execution_count": null,
      "outputs": [
        {
          "output_type": "stream",
          "text": [
            "Ace Ventura Pet Detective 1994\n"
          ],
          "name": "stdout"
        }
      ]
    }
  ]
}